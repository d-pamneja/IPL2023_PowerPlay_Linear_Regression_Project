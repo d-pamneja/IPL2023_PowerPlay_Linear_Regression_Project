{
  "cells": [
    {
      "cell_type": "markdown",
      "metadata": {
        "id": "NEtuEOEXY08K"
      },
      "source": [
        "\n",
        "\n",
        "---\n",
        "# IPL 2023 - PowerPlay Prediction Regression Project\n",
        "The aim of this project is to predict the runs that will be scored in the powerplay of each innings, given the infomration of the venue, batting an bowling team for that innings, and the players which participated in the given overs.\n",
        "\n",
        "The metric to gauge error is mean absolute error.\n",
        "\n",
        "---\n"
      ]
    },
    {
      "cell_type": "markdown",
      "metadata": {
        "id": "5kk4wFIDv_Mb"
      },
      "source": [
        "#1) Importing the Dependencies"
      ]
    },
    {
      "cell_type": "code",
      "execution_count": null,
      "metadata": {
        "id": "fcjcKNjbIdzC"
      },
      "outputs": [],
      "source": [
        "import pandas as pd\n",
        "import numpy as np\n",
        "import hashlib"
      ]
    },
    {
      "cell_type": "markdown",
      "metadata": {
        "id": "7eyvtagbwGzz"
      },
      "source": [
        "# 2) Loading the data in the environment"
      ]
    },
    {
      "cell_type": "code",
      "execution_count": null,
      "metadata": {
        "id": "tZenA7BhIjI-"
      },
      "outputs": [],
      "source": [
        "data_ball = pd.read_csv('/content/IPL_Ball_by_Ball_2008_2022.csv')\n",
        "data_match = pd.read_csv('/content/IPL_Matches_Result_2008_2022.csv')"
      ]
    },
    {
      "cell_type": "code",
      "execution_count": null,
      "metadata": {
        "colab": {
          "base_uri": "https://localhost:8080/",
          "height": 679
        },
        "id": "WxDyna7cIwV-",
        "outputId": "1bdbdedb-1e35-489b-dc2e-af8ef0ad698a"
      },
      "outputs": [
        {
          "data": {
            "text/html": [
              "\n",
              "  <div id=\"df-33f6e4fa-dea7-4317-90fe-406928a1970a\">\n",
              "    <div class=\"colab-df-container\">\n",
              "      <div>\n",
              "<style scoped>\n",
              "    .dataframe tbody tr th:only-of-type {\n",
              "        vertical-align: middle;\n",
              "    }\n",
              "\n",
              "    .dataframe tbody tr th {\n",
              "        vertical-align: top;\n",
              "    }\n",
              "\n",
              "    .dataframe thead th {\n",
              "        text-align: right;\n",
              "    }\n",
              "</style>\n",
              "<table border=\"1\" class=\"dataframe\">\n",
              "  <thead>\n",
              "    <tr style=\"text-align: right;\">\n",
              "      <th></th>\n",
              "      <th>ID</th>\n",
              "      <th>innings</th>\n",
              "      <th>overs</th>\n",
              "      <th>ballnumber</th>\n",
              "      <th>batter</th>\n",
              "      <th>bowler</th>\n",
              "      <th>non-striker</th>\n",
              "      <th>extra_type</th>\n",
              "      <th>batsman_run</th>\n",
              "      <th>extras_run</th>\n",
              "      <th>total_run</th>\n",
              "      <th>non_boundary</th>\n",
              "      <th>isWicketDelivery</th>\n",
              "      <th>player_out</th>\n",
              "      <th>kind</th>\n",
              "      <th>fielders_involved</th>\n",
              "      <th>BattingTeam</th>\n",
              "    </tr>\n",
              "  </thead>\n",
              "  <tbody>\n",
              "    <tr>\n",
              "      <th>0</th>\n",
              "      <td>1312200</td>\n",
              "      <td>1</td>\n",
              "      <td>0</td>\n",
              "      <td>1</td>\n",
              "      <td>YBK Jaiswal</td>\n",
              "      <td>Mohammed Shami</td>\n",
              "      <td>JC Buttler</td>\n",
              "      <td>NaN</td>\n",
              "      <td>0</td>\n",
              "      <td>0</td>\n",
              "      <td>0</td>\n",
              "      <td>0</td>\n",
              "      <td>0</td>\n",
              "      <td>NaN</td>\n",
              "      <td>NaN</td>\n",
              "      <td>NaN</td>\n",
              "      <td>Rajasthan Royals</td>\n",
              "    </tr>\n",
              "    <tr>\n",
              "      <th>1</th>\n",
              "      <td>1312200</td>\n",
              "      <td>1</td>\n",
              "      <td>0</td>\n",
              "      <td>2</td>\n",
              "      <td>YBK Jaiswal</td>\n",
              "      <td>Mohammed Shami</td>\n",
              "      <td>JC Buttler</td>\n",
              "      <td>legbyes</td>\n",
              "      <td>0</td>\n",
              "      <td>1</td>\n",
              "      <td>1</td>\n",
              "      <td>0</td>\n",
              "      <td>0</td>\n",
              "      <td>NaN</td>\n",
              "      <td>NaN</td>\n",
              "      <td>NaN</td>\n",
              "      <td>Rajasthan Royals</td>\n",
              "    </tr>\n",
              "    <tr>\n",
              "      <th>2</th>\n",
              "      <td>1312200</td>\n",
              "      <td>1</td>\n",
              "      <td>0</td>\n",
              "      <td>3</td>\n",
              "      <td>JC Buttler</td>\n",
              "      <td>Mohammed Shami</td>\n",
              "      <td>YBK Jaiswal</td>\n",
              "      <td>NaN</td>\n",
              "      <td>1</td>\n",
              "      <td>0</td>\n",
              "      <td>1</td>\n",
              "      <td>0</td>\n",
              "      <td>0</td>\n",
              "      <td>NaN</td>\n",
              "      <td>NaN</td>\n",
              "      <td>NaN</td>\n",
              "      <td>Rajasthan Royals</td>\n",
              "    </tr>\n",
              "    <tr>\n",
              "      <th>3</th>\n",
              "      <td>1312200</td>\n",
              "      <td>1</td>\n",
              "      <td>0</td>\n",
              "      <td>4</td>\n",
              "      <td>YBK Jaiswal</td>\n",
              "      <td>Mohammed Shami</td>\n",
              "      <td>JC Buttler</td>\n",
              "      <td>NaN</td>\n",
              "      <td>0</td>\n",
              "      <td>0</td>\n",
              "      <td>0</td>\n",
              "      <td>0</td>\n",
              "      <td>0</td>\n",
              "      <td>NaN</td>\n",
              "      <td>NaN</td>\n",
              "      <td>NaN</td>\n",
              "      <td>Rajasthan Royals</td>\n",
              "    </tr>\n",
              "    <tr>\n",
              "      <th>4</th>\n",
              "      <td>1312200</td>\n",
              "      <td>1</td>\n",
              "      <td>0</td>\n",
              "      <td>5</td>\n",
              "      <td>YBK Jaiswal</td>\n",
              "      <td>Mohammed Shami</td>\n",
              "      <td>JC Buttler</td>\n",
              "      <td>NaN</td>\n",
              "      <td>0</td>\n",
              "      <td>0</td>\n",
              "      <td>0</td>\n",
              "      <td>0</td>\n",
              "      <td>0</td>\n",
              "      <td>NaN</td>\n",
              "      <td>NaN</td>\n",
              "      <td>NaN</td>\n",
              "      <td>Rajasthan Royals</td>\n",
              "    </tr>\n",
              "    <tr>\n",
              "      <th>...</th>\n",
              "      <td>...</td>\n",
              "      <td>...</td>\n",
              "      <td>...</td>\n",
              "      <td>...</td>\n",
              "      <td>...</td>\n",
              "      <td>...</td>\n",
              "      <td>...</td>\n",
              "      <td>...</td>\n",
              "      <td>...</td>\n",
              "      <td>...</td>\n",
              "      <td>...</td>\n",
              "      <td>...</td>\n",
              "      <td>...</td>\n",
              "      <td>...</td>\n",
              "      <td>...</td>\n",
              "      <td>...</td>\n",
              "      <td>...</td>\n",
              "    </tr>\n",
              "    <tr>\n",
              "      <th>70474</th>\n",
              "      <td>1136582</td>\n",
              "      <td>2</td>\n",
              "      <td>7</td>\n",
              "      <td>5</td>\n",
              "      <td>SS Iyer</td>\n",
              "      <td>R Ashwin</td>\n",
              "      <td>RR Pant</td>\n",
              "      <td>NaN</td>\n",
              "      <td>1</td>\n",
              "      <td>0</td>\n",
              "      <td>1</td>\n",
              "      <td>0</td>\n",
              "      <td>0</td>\n",
              "      <td>NaN</td>\n",
              "      <td>NaN</td>\n",
              "      <td>NaN</td>\n",
              "      <td>Delhi Daredevils</td>\n",
              "    </tr>\n",
              "    <tr>\n",
              "      <th>70475</th>\n",
              "      <td>1136582</td>\n",
              "      <td>2</td>\n",
              "      <td>7</td>\n",
              "      <td>6</td>\n",
              "      <td>RR Pant</td>\n",
              "      <td>R Ashwin</td>\n",
              "      <td>SS Iyer</td>\n",
              "      <td>NaN</td>\n",
              "      <td>1</td>\n",
              "      <td>0</td>\n",
              "      <td>1</td>\n",
              "      <td>0</td>\n",
              "      <td>0</td>\n",
              "      <td>NaN</td>\n",
              "      <td>NaN</td>\n",
              "      <td>NaN</td>\n",
              "      <td>Delhi Daredevils</td>\n",
              "    </tr>\n",
              "    <tr>\n",
              "      <th>70476</th>\n",
              "      <td>1136582</td>\n",
              "      <td>2</td>\n",
              "      <td>8</td>\n",
              "      <td>1</td>\n",
              "      <td>RR Pant</td>\n",
              "      <td>Mujeeb Ur Rahman</td>\n",
              "      <td>SS Iyer</td>\n",
              "      <td>NaN</td>\n",
              "      <td>0</td>\n",
              "      <td>0</td>\n",
              "      <td>0</td>\n",
              "      <td>0</td>\n",
              "      <td>1</td>\n",
              "      <td>RR Pant</td>\n",
              "      <td>bowled</td>\n",
              "      <td>NaN</td>\n",
              "      <td>Delhi Daredevils</td>\n",
              "    </tr>\n",
              "    <tr>\n",
              "      <th>70477</th>\n",
              "      <td>1136582</td>\n",
              "      <td>2</td>\n",
              "      <td>8</td>\n",
              "      <td>2</td>\n",
              "      <td>DT Christian</td>\n",
              "      <td>Mujeeb Ur Rahman</td>\n",
              "      <td>SS Iyer</td>\n",
              "      <td>NaN</td>\n",
              "      <td>0</td>\n",
              "      <td>0</td>\n",
              "      <td>0</td>\n",
              "      <td>0</td>\n",
              "      <td>0</td>\n",
              "      <td>NaN</td>\n",
              "      <td>NaN</td>\n",
              "      <td>NaN</td>\n",
              "      <td>Delhi Daredevils</td>\n",
              "    </tr>\n",
              "    <tr>\n",
              "      <th>70478</th>\n",
              "      <td>1136582</td>\n",
              "      <td>2</td>\n",
              "      <td>8</td>\n",
              "      <td>3</td>\n",
              "      <td>DT Christian</td>\n",
              "      <td>Mujeeb Ur Rahman</td>\n",
              "      <td>SS Iyer</td>\n",
              "      <td>NaN</td>\n",
              "      <td>0</td>\n",
              "      <td>0</td>\n",
              "      <td>0</td>\n",
              "      <td>0</td>\n",
              "      <td>0</td>\n",
              "      <td>NaN</td>\n",
              "      <td>NaN</td>\n",
              "      <td>NaN</td>\n",
              "      <td>De</td>\n",
              "    </tr>\n",
              "  </tbody>\n",
              "</table>\n",
              "<p>70479 rows × 17 columns</p>\n",
              "</div>\n",
              "      <button class=\"colab-df-convert\" onclick=\"convertToInteractive('df-33f6e4fa-dea7-4317-90fe-406928a1970a')\"\n",
              "              title=\"Convert this dataframe to an interactive table.\"\n",
              "              style=\"display:none;\">\n",
              "        \n",
              "  <svg xmlns=\"http://www.w3.org/2000/svg\" height=\"24px\"viewBox=\"0 0 24 24\"\n",
              "       width=\"24px\">\n",
              "    <path d=\"M0 0h24v24H0V0z\" fill=\"none\"/>\n",
              "    <path d=\"M18.56 5.44l.94 2.06.94-2.06 2.06-.94-2.06-.94-.94-2.06-.94 2.06-2.06.94zm-11 1L8.5 8.5l.94-2.06 2.06-.94-2.06-.94L8.5 2.5l-.94 2.06-2.06.94zm10 10l.94 2.06.94-2.06 2.06-.94-2.06-.94-.94-2.06-.94 2.06-2.06.94z\"/><path d=\"M17.41 7.96l-1.37-1.37c-.4-.4-.92-.59-1.43-.59-.52 0-1.04.2-1.43.59L10.3 9.45l-7.72 7.72c-.78.78-.78 2.05 0 2.83L4 21.41c.39.39.9.59 1.41.59.51 0 1.02-.2 1.41-.59l7.78-7.78 2.81-2.81c.8-.78.8-2.07 0-2.86zM5.41 20L4 18.59l7.72-7.72 1.47 1.35L5.41 20z\"/>\n",
              "  </svg>\n",
              "      </button>\n",
              "      \n",
              "  <style>\n",
              "    .colab-df-container {\n",
              "      display:flex;\n",
              "      flex-wrap:wrap;\n",
              "      gap: 12px;\n",
              "    }\n",
              "\n",
              "    .colab-df-convert {\n",
              "      background-color: #E8F0FE;\n",
              "      border: none;\n",
              "      border-radius: 50%;\n",
              "      cursor: pointer;\n",
              "      display: none;\n",
              "      fill: #1967D2;\n",
              "      height: 32px;\n",
              "      padding: 0 0 0 0;\n",
              "      width: 32px;\n",
              "    }\n",
              "\n",
              "    .colab-df-convert:hover {\n",
              "      background-color: #E2EBFA;\n",
              "      box-shadow: 0px 1px 2px rgba(60, 64, 67, 0.3), 0px 1px 3px 1px rgba(60, 64, 67, 0.15);\n",
              "      fill: #174EA6;\n",
              "    }\n",
              "\n",
              "    [theme=dark] .colab-df-convert {\n",
              "      background-color: #3B4455;\n",
              "      fill: #D2E3FC;\n",
              "    }\n",
              "\n",
              "    [theme=dark] .colab-df-convert:hover {\n",
              "      background-color: #434B5C;\n",
              "      box-shadow: 0px 1px 3px 1px rgba(0, 0, 0, 0.15);\n",
              "      filter: drop-shadow(0px 1px 2px rgba(0, 0, 0, 0.3));\n",
              "      fill: #FFFFFF;\n",
              "    }\n",
              "  </style>\n",
              "\n",
              "      <script>\n",
              "        const buttonEl =\n",
              "          document.querySelector('#df-33f6e4fa-dea7-4317-90fe-406928a1970a button.colab-df-convert');\n",
              "        buttonEl.style.display =\n",
              "          google.colab.kernel.accessAllowed ? 'block' : 'none';\n",
              "\n",
              "        async function convertToInteractive(key) {\n",
              "          const element = document.querySelector('#df-33f6e4fa-dea7-4317-90fe-406928a1970a');\n",
              "          const dataTable =\n",
              "            await google.colab.kernel.invokeFunction('convertToInteractive',\n",
              "                                                     [key], {});\n",
              "          if (!dataTable) return;\n",
              "\n",
              "          const docLinkHtml = 'Like what you see? Visit the ' +\n",
              "            '<a target=\"_blank\" href=https://colab.research.google.com/notebooks/data_table.ipynb>data table notebook</a>'\n",
              "            + ' to learn more about interactive tables.';\n",
              "          element.innerHTML = '';\n",
              "          dataTable['output_type'] = 'display_data';\n",
              "          await google.colab.output.renderOutput(dataTable, element);\n",
              "          const docLink = document.createElement('div');\n",
              "          docLink.innerHTML = docLinkHtml;\n",
              "          element.appendChild(docLink);\n",
              "        }\n",
              "      </script>\n",
              "    </div>\n",
              "  </div>\n",
              "  "
            ],
            "text/plain": [
              "            ID  innings  overs  ballnumber        batter            bowler  \\\n",
              "0      1312200        1      0           1   YBK Jaiswal    Mohammed Shami   \n",
              "1      1312200        1      0           2   YBK Jaiswal    Mohammed Shami   \n",
              "2      1312200        1      0           3    JC Buttler    Mohammed Shami   \n",
              "3      1312200        1      0           4   YBK Jaiswal    Mohammed Shami   \n",
              "4      1312200        1      0           5   YBK Jaiswal    Mohammed Shami   \n",
              "...        ...      ...    ...         ...           ...               ...   \n",
              "70474  1136582        2      7           5       SS Iyer          R Ashwin   \n",
              "70475  1136582        2      7           6       RR Pant          R Ashwin   \n",
              "70476  1136582        2      8           1       RR Pant  Mujeeb Ur Rahman   \n",
              "70477  1136582        2      8           2  DT Christian  Mujeeb Ur Rahman   \n",
              "70478  1136582        2      8           3  DT Christian  Mujeeb Ur Rahman   \n",
              "\n",
              "       non-striker extra_type  batsman_run  extras_run  total_run  \\\n",
              "0       JC Buttler        NaN            0           0          0   \n",
              "1       JC Buttler    legbyes            0           1          1   \n",
              "2      YBK Jaiswal        NaN            1           0          1   \n",
              "3       JC Buttler        NaN            0           0          0   \n",
              "4       JC Buttler        NaN            0           0          0   \n",
              "...            ...        ...          ...         ...        ...   \n",
              "70474      RR Pant        NaN            1           0          1   \n",
              "70475      SS Iyer        NaN            1           0          1   \n",
              "70476      SS Iyer        NaN            0           0          0   \n",
              "70477      SS Iyer        NaN            0           0          0   \n",
              "70478      SS Iyer        NaN            0           0          0   \n",
              "\n",
              "       non_boundary  isWicketDelivery player_out    kind fielders_involved  \\\n",
              "0                 0                 0        NaN     NaN               NaN   \n",
              "1                 0                 0        NaN     NaN               NaN   \n",
              "2                 0                 0        NaN     NaN               NaN   \n",
              "3                 0                 0        NaN     NaN               NaN   \n",
              "4                 0                 0        NaN     NaN               NaN   \n",
              "...             ...               ...        ...     ...               ...   \n",
              "70474             0                 0        NaN     NaN               NaN   \n",
              "70475             0                 0        NaN     NaN               NaN   \n",
              "70476             0                 1    RR Pant  bowled               NaN   \n",
              "70477             0                 0        NaN     NaN               NaN   \n",
              "70478             0                 0        NaN     NaN               NaN   \n",
              "\n",
              "            BattingTeam  \n",
              "0      Rajasthan Royals  \n",
              "1      Rajasthan Royals  \n",
              "2      Rajasthan Royals  \n",
              "3      Rajasthan Royals  \n",
              "4      Rajasthan Royals  \n",
              "...                 ...  \n",
              "70474  Delhi Daredevils  \n",
              "70475  Delhi Daredevils  \n",
              "70476  Delhi Daredevils  \n",
              "70477  Delhi Daredevils  \n",
              "70478                De  \n",
              "\n",
              "[70479 rows x 17 columns]"
            ]
          },
          "execution_count": 8,
          "metadata": {},
          "output_type": "execute_result"
        }
      ],
      "source": [
        "data_ball"
      ]
    },
    {
      "cell_type": "code",
      "execution_count": null,
      "metadata": {
        "colab": {
          "base_uri": "https://localhost:8080/",
          "height": 1000
        },
        "id": "nvTKJo1TioWY",
        "outputId": "448681b7-bf6a-4b84-8f61-c58f0613cc97"
      },
      "outputs": [
        {
          "data": {
            "text/html": [
              "\n",
              "  <div id=\"df-5fa4a859-7ff7-4e84-aa9f-326d2db31786\">\n",
              "    <div class=\"colab-df-container\">\n",
              "      <div>\n",
              "<style scoped>\n",
              "    .dataframe tbody tr th:only-of-type {\n",
              "        vertical-align: middle;\n",
              "    }\n",
              "\n",
              "    .dataframe tbody tr th {\n",
              "        vertical-align: top;\n",
              "    }\n",
              "\n",
              "    .dataframe thead th {\n",
              "        text-align: right;\n",
              "    }\n",
              "</style>\n",
              "<table border=\"1\" class=\"dataframe\">\n",
              "  <thead>\n",
              "    <tr style=\"text-align: right;\">\n",
              "      <th></th>\n",
              "      <th>ID</th>\n",
              "      <th>City</th>\n",
              "      <th>Date</th>\n",
              "      <th>Season</th>\n",
              "      <th>MatchNumber</th>\n",
              "      <th>Team1</th>\n",
              "      <th>Team2</th>\n",
              "      <th>Venue</th>\n",
              "      <th>TossWinner</th>\n",
              "      <th>TossDecision</th>\n",
              "      <th>SuperOver</th>\n",
              "      <th>WinningTeam</th>\n",
              "      <th>WonBy</th>\n",
              "      <th>Margin</th>\n",
              "      <th>method</th>\n",
              "      <th>Player_of_Match</th>\n",
              "      <th>Team1Players</th>\n",
              "      <th>Team2Players</th>\n",
              "      <th>Umpire1</th>\n",
              "      <th>Umpire2</th>\n",
              "    </tr>\n",
              "  </thead>\n",
              "  <tbody>\n",
              "    <tr>\n",
              "      <th>0</th>\n",
              "      <td>1312200</td>\n",
              "      <td>Ahmedabad</td>\n",
              "      <td>2022-05-29</td>\n",
              "      <td>2022</td>\n",
              "      <td>Final</td>\n",
              "      <td>Rajasthan Royals</td>\n",
              "      <td>Gujarat Titans</td>\n",
              "      <td>Narendra Modi Stadium, Ahmedabad</td>\n",
              "      <td>Rajasthan Royals</td>\n",
              "      <td>bat</td>\n",
              "      <td>N</td>\n",
              "      <td>Gujarat Titans</td>\n",
              "      <td>Wickets</td>\n",
              "      <td>7.0</td>\n",
              "      <td>NaN</td>\n",
              "      <td>HH Pandya</td>\n",
              "      <td>['YBK Jaiswal', 'JC Buttler', 'SV Samson', 'D ...</td>\n",
              "      <td>['WP Saha', 'Shubman Gill', 'MS Wade', 'HH Pan...</td>\n",
              "      <td>CB Gaffaney</td>\n",
              "      <td>Nitin Menon</td>\n",
              "    </tr>\n",
              "    <tr>\n",
              "      <th>1</th>\n",
              "      <td>1312199</td>\n",
              "      <td>Ahmedabad</td>\n",
              "      <td>2022-05-27</td>\n",
              "      <td>2022</td>\n",
              "      <td>Qualifier 2</td>\n",
              "      <td>Royal Challengers Bangalore</td>\n",
              "      <td>Rajasthan Royals</td>\n",
              "      <td>Narendra Modi Stadium, Ahmedabad</td>\n",
              "      <td>Rajasthan Royals</td>\n",
              "      <td>field</td>\n",
              "      <td>N</td>\n",
              "      <td>Rajasthan Royals</td>\n",
              "      <td>Wickets</td>\n",
              "      <td>7.0</td>\n",
              "      <td>NaN</td>\n",
              "      <td>JC Buttler</td>\n",
              "      <td>['V Kohli', 'F du Plessis', 'RM Patidar', 'GJ ...</td>\n",
              "      <td>['YBK Jaiswal', 'JC Buttler', 'SV Samson', 'D ...</td>\n",
              "      <td>CB Gaffaney</td>\n",
              "      <td>Nitin Menon</td>\n",
              "    </tr>\n",
              "    <tr>\n",
              "      <th>2</th>\n",
              "      <td>1312198</td>\n",
              "      <td>Kolkata</td>\n",
              "      <td>2022-05-25</td>\n",
              "      <td>2022</td>\n",
              "      <td>Eliminator</td>\n",
              "      <td>Royal Challengers Bangalore</td>\n",
              "      <td>Lucknow Super Giants</td>\n",
              "      <td>Eden Gardens, Kolkata</td>\n",
              "      <td>Lucknow Super Giants</td>\n",
              "      <td>field</td>\n",
              "      <td>N</td>\n",
              "      <td>Royal Challengers Bangalore</td>\n",
              "      <td>Runs</td>\n",
              "      <td>14.0</td>\n",
              "      <td>NaN</td>\n",
              "      <td>RM Patidar</td>\n",
              "      <td>['V Kohli', 'F du Plessis', 'RM Patidar', 'GJ ...</td>\n",
              "      <td>['Q de Kock', 'KL Rahul', 'M Vohra', 'DJ Hooda...</td>\n",
              "      <td>J Madanagopal</td>\n",
              "      <td>MA Gough</td>\n",
              "    </tr>\n",
              "    <tr>\n",
              "      <th>3</th>\n",
              "      <td>1312197</td>\n",
              "      <td>Kolkata</td>\n",
              "      <td>2022-05-24</td>\n",
              "      <td>2022</td>\n",
              "      <td>Qualifier 1</td>\n",
              "      <td>Rajasthan Royals</td>\n",
              "      <td>Gujarat Titans</td>\n",
              "      <td>Eden Gardens, Kolkata</td>\n",
              "      <td>Gujarat Titans</td>\n",
              "      <td>field</td>\n",
              "      <td>N</td>\n",
              "      <td>Gujarat Titans</td>\n",
              "      <td>Wickets</td>\n",
              "      <td>7.0</td>\n",
              "      <td>NaN</td>\n",
              "      <td>DA Miller</td>\n",
              "      <td>['YBK Jaiswal', 'JC Buttler', 'SV Samson', 'D ...</td>\n",
              "      <td>['WP Saha', 'Shubman Gill', 'MS Wade', 'HH Pan...</td>\n",
              "      <td>BNJ Oxenford</td>\n",
              "      <td>VK Sharma</td>\n",
              "    </tr>\n",
              "    <tr>\n",
              "      <th>4</th>\n",
              "      <td>1304116</td>\n",
              "      <td>Mumbai</td>\n",
              "      <td>2022-05-22</td>\n",
              "      <td>2022</td>\n",
              "      <td>70</td>\n",
              "      <td>Sunrisers Hyderabad</td>\n",
              "      <td>Punjab Kings</td>\n",
              "      <td>Wankhede Stadium, Mumbai</td>\n",
              "      <td>Sunrisers Hyderabad</td>\n",
              "      <td>bat</td>\n",
              "      <td>N</td>\n",
              "      <td>Punjab Kings</td>\n",
              "      <td>Wickets</td>\n",
              "      <td>5.0</td>\n",
              "      <td>NaN</td>\n",
              "      <td>Harpreet Brar</td>\n",
              "      <td>['PK Garg', 'Abhishek Sharma', 'RA Tripathi', ...</td>\n",
              "      <td>['JM Bairstow', 'S Dhawan', 'M Shahrukh Khan',...</td>\n",
              "      <td>AK Chaudhary</td>\n",
              "      <td>NA Patwardhan</td>\n",
              "    </tr>\n",
              "    <tr>\n",
              "      <th>...</th>\n",
              "      <td>...</td>\n",
              "      <td>...</td>\n",
              "      <td>...</td>\n",
              "      <td>...</td>\n",
              "      <td>...</td>\n",
              "      <td>...</td>\n",
              "      <td>...</td>\n",
              "      <td>...</td>\n",
              "      <td>...</td>\n",
              "      <td>...</td>\n",
              "      <td>...</td>\n",
              "      <td>...</td>\n",
              "      <td>...</td>\n",
              "      <td>...</td>\n",
              "      <td>...</td>\n",
              "      <td>...</td>\n",
              "      <td>...</td>\n",
              "      <td>...</td>\n",
              "      <td>...</td>\n",
              "      <td>...</td>\n",
              "    </tr>\n",
              "    <tr>\n",
              "      <th>945</th>\n",
              "      <td>335986</td>\n",
              "      <td>Kolkata</td>\n",
              "      <td>2008-04-20</td>\n",
              "      <td>2007/08</td>\n",
              "      <td>4</td>\n",
              "      <td>Kolkata Knight Riders</td>\n",
              "      <td>Deccan Chargers</td>\n",
              "      <td>Eden Gardens</td>\n",
              "      <td>Deccan Chargers</td>\n",
              "      <td>bat</td>\n",
              "      <td>N</td>\n",
              "      <td>Kolkata Knight Riders</td>\n",
              "      <td>Wickets</td>\n",
              "      <td>5.0</td>\n",
              "      <td>NaN</td>\n",
              "      <td>DJ Hussey</td>\n",
              "      <td>['WP Saha', 'BB McCullum', 'RT Ponting', 'SC G...</td>\n",
              "      <td>['AC Gilchrist', 'Y Venugopal Rao', 'VVS Laxma...</td>\n",
              "      <td>BF Bowden</td>\n",
              "      <td>K Hariharan</td>\n",
              "    </tr>\n",
              "    <tr>\n",
              "      <th>946</th>\n",
              "      <td>335985</td>\n",
              "      <td>Mumbai</td>\n",
              "      <td>2008-04-20</td>\n",
              "      <td>2007/08</td>\n",
              "      <td>5</td>\n",
              "      <td>Mumbai Indians</td>\n",
              "      <td>Royal Challengers Bangalore</td>\n",
              "      <td>Wankhede Stadium</td>\n",
              "      <td>Mumbai Indians</td>\n",
              "      <td>bat</td>\n",
              "      <td>N</td>\n",
              "      <td>Royal Challengers Bangalore</td>\n",
              "      <td>Wickets</td>\n",
              "      <td>5.0</td>\n",
              "      <td>NaN</td>\n",
              "      <td>MV Boucher</td>\n",
              "      <td>['L Ronchi', 'ST Jayasuriya', 'DJ Thornely', '...</td>\n",
              "      <td>['S Chanderpaul', 'R Dravid', 'LRPL Taylor', '...</td>\n",
              "      <td>SJ Davis</td>\n",
              "      <td>DJ Harper</td>\n",
              "    </tr>\n",
              "    <tr>\n",
              "      <th>947</th>\n",
              "      <td>335984</td>\n",
              "      <td>Delhi</td>\n",
              "      <td>2008-04-19</td>\n",
              "      <td>2007/08</td>\n",
              "      <td>3</td>\n",
              "      <td>Delhi Daredevils</td>\n",
              "      <td>Rajasthan Royals</td>\n",
              "      <td>Feroz Shah Kotla</td>\n",
              "      <td>Rajasthan Royals</td>\n",
              "      <td>bat</td>\n",
              "      <td>N</td>\n",
              "      <td>Delhi Daredevils</td>\n",
              "      <td>Wickets</td>\n",
              "      <td>9.0</td>\n",
              "      <td>NaN</td>\n",
              "      <td>MF Maharoof</td>\n",
              "      <td>['G Gambhir', 'V Sehwag', 'S Dhawan', 'MK Tiwa...</td>\n",
              "      <td>['T Kohli', 'YK Pathan', 'SR Watson', 'M Kaif'...</td>\n",
              "      <td>Aleem Dar</td>\n",
              "      <td>GA Pratapkumar</td>\n",
              "    </tr>\n",
              "    <tr>\n",
              "      <th>948</th>\n",
              "      <td>335983</td>\n",
              "      <td>Chandigarh</td>\n",
              "      <td>2008-04-19</td>\n",
              "      <td>2007/08</td>\n",
              "      <td>2</td>\n",
              "      <td>Kings XI Punjab</td>\n",
              "      <td>Chennai Super Kings</td>\n",
              "      <td>Punjab Cricket Association Stadium, Mohali</td>\n",
              "      <td>Chennai Super Kings</td>\n",
              "      <td>bat</td>\n",
              "      <td>N</td>\n",
              "      <td>Chennai Super Kings</td>\n",
              "      <td>Runs</td>\n",
              "      <td>33.0</td>\n",
              "      <td>NaN</td>\n",
              "      <td>MEK Hussey</td>\n",
              "      <td>['K Goel', 'JR Hopes', 'KC Sangakkara', 'Yuvra...</td>\n",
              "      <td>['PA Patel', 'ML Hayden', 'MEK Hussey', 'MS Dh...</td>\n",
              "      <td>MR Benson</td>\n",
              "      <td>SL Shastri</td>\n",
              "    </tr>\n",
              "    <tr>\n",
              "      <th>949</th>\n",
              "      <td>335982</td>\n",
              "      <td>Bangalore</td>\n",
              "      <td>2008-04-18</td>\n",
              "      <td>2007/08</td>\n",
              "      <td>1</td>\n",
              "      <td>Royal Challengers Bangalore</td>\n",
              "      <td>Kolkata Knight Riders</td>\n",
              "      <td>M Chinnaswamy Stadium</td>\n",
              "      <td>Royal Challengers Bangalore</td>\n",
              "      <td>field</td>\n",
              "      <td>N</td>\n",
              "      <td>Kolkata Knight Riders</td>\n",
              "      <td>Runs</td>\n",
              "      <td>140.0</td>\n",
              "      <td>NaN</td>\n",
              "      <td>BB McCullum</td>\n",
              "      <td>['R Dravid', 'W Jaffer', 'V Kohli', 'JH Kallis...</td>\n",
              "      <td>['SC Ganguly', 'BB McCullum', 'RT Ponting', 'D...</td>\n",
              "      <td>Asad Rauf</td>\n",
              "      <td>RE Koertzen</td>\n",
              "    </tr>\n",
              "  </tbody>\n",
              "</table>\n",
              "<p>950 rows × 20 columns</p>\n",
              "</div>\n",
              "      <button class=\"colab-df-convert\" onclick=\"convertToInteractive('df-5fa4a859-7ff7-4e84-aa9f-326d2db31786')\"\n",
              "              title=\"Convert this dataframe to an interactive table.\"\n",
              "              style=\"display:none;\">\n",
              "        \n",
              "  <svg xmlns=\"http://www.w3.org/2000/svg\" height=\"24px\"viewBox=\"0 0 24 24\"\n",
              "       width=\"24px\">\n",
              "    <path d=\"M0 0h24v24H0V0z\" fill=\"none\"/>\n",
              "    <path d=\"M18.56 5.44l.94 2.06.94-2.06 2.06-.94-2.06-.94-.94-2.06-.94 2.06-2.06.94zm-11 1L8.5 8.5l.94-2.06 2.06-.94-2.06-.94L8.5 2.5l-.94 2.06-2.06.94zm10 10l.94 2.06.94-2.06 2.06-.94-2.06-.94-.94-2.06-.94 2.06-2.06.94z\"/><path d=\"M17.41 7.96l-1.37-1.37c-.4-.4-.92-.59-1.43-.59-.52 0-1.04.2-1.43.59L10.3 9.45l-7.72 7.72c-.78.78-.78 2.05 0 2.83L4 21.41c.39.39.9.59 1.41.59.51 0 1.02-.2 1.41-.59l7.78-7.78 2.81-2.81c.8-.78.8-2.07 0-2.86zM5.41 20L4 18.59l7.72-7.72 1.47 1.35L5.41 20z\"/>\n",
              "  </svg>\n",
              "      </button>\n",
              "      \n",
              "  <style>\n",
              "    .colab-df-container {\n",
              "      display:flex;\n",
              "      flex-wrap:wrap;\n",
              "      gap: 12px;\n",
              "    }\n",
              "\n",
              "    .colab-df-convert {\n",
              "      background-color: #E8F0FE;\n",
              "      border: none;\n",
              "      border-radius: 50%;\n",
              "      cursor: pointer;\n",
              "      display: none;\n",
              "      fill: #1967D2;\n",
              "      height: 32px;\n",
              "      padding: 0 0 0 0;\n",
              "      width: 32px;\n",
              "    }\n",
              "\n",
              "    .colab-df-convert:hover {\n",
              "      background-color: #E2EBFA;\n",
              "      box-shadow: 0px 1px 2px rgba(60, 64, 67, 0.3), 0px 1px 3px 1px rgba(60, 64, 67, 0.15);\n",
              "      fill: #174EA6;\n",
              "    }\n",
              "\n",
              "    [theme=dark] .colab-df-convert {\n",
              "      background-color: #3B4455;\n",
              "      fill: #D2E3FC;\n",
              "    }\n",
              "\n",
              "    [theme=dark] .colab-df-convert:hover {\n",
              "      background-color: #434B5C;\n",
              "      box-shadow: 0px 1px 3px 1px rgba(0, 0, 0, 0.15);\n",
              "      filter: drop-shadow(0px 1px 2px rgba(0, 0, 0, 0.3));\n",
              "      fill: #FFFFFF;\n",
              "    }\n",
              "  </style>\n",
              "\n",
              "      <script>\n",
              "        const buttonEl =\n",
              "          document.querySelector('#df-5fa4a859-7ff7-4e84-aa9f-326d2db31786 button.colab-df-convert');\n",
              "        buttonEl.style.display =\n",
              "          google.colab.kernel.accessAllowed ? 'block' : 'none';\n",
              "\n",
              "        async function convertToInteractive(key) {\n",
              "          const element = document.querySelector('#df-5fa4a859-7ff7-4e84-aa9f-326d2db31786');\n",
              "          const dataTable =\n",
              "            await google.colab.kernel.invokeFunction('convertToInteractive',\n",
              "                                                     [key], {});\n",
              "          if (!dataTable) return;\n",
              "\n",
              "          const docLinkHtml = 'Like what you see? Visit the ' +\n",
              "            '<a target=\"_blank\" href=https://colab.research.google.com/notebooks/data_table.ipynb>data table notebook</a>'\n",
              "            + ' to learn more about interactive tables.';\n",
              "          element.innerHTML = '';\n",
              "          dataTable['output_type'] = 'display_data';\n",
              "          await google.colab.output.renderOutput(dataTable, element);\n",
              "          const docLink = document.createElement('div');\n",
              "          docLink.innerHTML = docLinkHtml;\n",
              "          element.appendChild(docLink);\n",
              "        }\n",
              "      </script>\n",
              "    </div>\n",
              "  </div>\n",
              "  "
            ],
            "text/plain": [
              "          ID        City        Date   Season  MatchNumber  \\\n",
              "0    1312200   Ahmedabad  2022-05-29     2022        Final   \n",
              "1    1312199   Ahmedabad  2022-05-27     2022  Qualifier 2   \n",
              "2    1312198     Kolkata  2022-05-25     2022   Eliminator   \n",
              "3    1312197     Kolkata  2022-05-24     2022  Qualifier 1   \n",
              "4    1304116      Mumbai  2022-05-22     2022           70   \n",
              "..       ...         ...         ...      ...          ...   \n",
              "945   335986     Kolkata  2008-04-20  2007/08            4   \n",
              "946   335985      Mumbai  2008-04-20  2007/08            5   \n",
              "947   335984       Delhi  2008-04-19  2007/08            3   \n",
              "948   335983  Chandigarh  2008-04-19  2007/08            2   \n",
              "949   335982   Bangalore  2008-04-18  2007/08            1   \n",
              "\n",
              "                           Team1                        Team2  \\\n",
              "0               Rajasthan Royals               Gujarat Titans   \n",
              "1    Royal Challengers Bangalore             Rajasthan Royals   \n",
              "2    Royal Challengers Bangalore         Lucknow Super Giants   \n",
              "3               Rajasthan Royals               Gujarat Titans   \n",
              "4            Sunrisers Hyderabad                 Punjab Kings   \n",
              "..                           ...                          ...   \n",
              "945        Kolkata Knight Riders              Deccan Chargers   \n",
              "946               Mumbai Indians  Royal Challengers Bangalore   \n",
              "947             Delhi Daredevils             Rajasthan Royals   \n",
              "948              Kings XI Punjab          Chennai Super Kings   \n",
              "949  Royal Challengers Bangalore        Kolkata Knight Riders   \n",
              "\n",
              "                                          Venue                   TossWinner  \\\n",
              "0              Narendra Modi Stadium, Ahmedabad             Rajasthan Royals   \n",
              "1              Narendra Modi Stadium, Ahmedabad             Rajasthan Royals   \n",
              "2                         Eden Gardens, Kolkata         Lucknow Super Giants   \n",
              "3                         Eden Gardens, Kolkata               Gujarat Titans   \n",
              "4                      Wankhede Stadium, Mumbai          Sunrisers Hyderabad   \n",
              "..                                          ...                          ...   \n",
              "945                                Eden Gardens              Deccan Chargers   \n",
              "946                            Wankhede Stadium               Mumbai Indians   \n",
              "947                            Feroz Shah Kotla             Rajasthan Royals   \n",
              "948  Punjab Cricket Association Stadium, Mohali          Chennai Super Kings   \n",
              "949                       M Chinnaswamy Stadium  Royal Challengers Bangalore   \n",
              "\n",
              "    TossDecision SuperOver                  WinningTeam    WonBy  Margin  \\\n",
              "0            bat         N               Gujarat Titans  Wickets     7.0   \n",
              "1          field         N             Rajasthan Royals  Wickets     7.0   \n",
              "2          field         N  Royal Challengers Bangalore     Runs    14.0   \n",
              "3          field         N               Gujarat Titans  Wickets     7.0   \n",
              "4            bat         N                 Punjab Kings  Wickets     5.0   \n",
              "..           ...       ...                          ...      ...     ...   \n",
              "945          bat         N        Kolkata Knight Riders  Wickets     5.0   \n",
              "946          bat         N  Royal Challengers Bangalore  Wickets     5.0   \n",
              "947          bat         N             Delhi Daredevils  Wickets     9.0   \n",
              "948          bat         N          Chennai Super Kings     Runs    33.0   \n",
              "949        field         N        Kolkata Knight Riders     Runs   140.0   \n",
              "\n",
              "    method Player_of_Match                                       Team1Players  \\\n",
              "0      NaN       HH Pandya  ['YBK Jaiswal', 'JC Buttler', 'SV Samson', 'D ...   \n",
              "1      NaN      JC Buttler  ['V Kohli', 'F du Plessis', 'RM Patidar', 'GJ ...   \n",
              "2      NaN      RM Patidar  ['V Kohli', 'F du Plessis', 'RM Patidar', 'GJ ...   \n",
              "3      NaN       DA Miller  ['YBK Jaiswal', 'JC Buttler', 'SV Samson', 'D ...   \n",
              "4      NaN   Harpreet Brar  ['PK Garg', 'Abhishek Sharma', 'RA Tripathi', ...   \n",
              "..     ...             ...                                                ...   \n",
              "945    NaN       DJ Hussey  ['WP Saha', 'BB McCullum', 'RT Ponting', 'SC G...   \n",
              "946    NaN      MV Boucher  ['L Ronchi', 'ST Jayasuriya', 'DJ Thornely', '...   \n",
              "947    NaN     MF Maharoof  ['G Gambhir', 'V Sehwag', 'S Dhawan', 'MK Tiwa...   \n",
              "948    NaN      MEK Hussey  ['K Goel', 'JR Hopes', 'KC Sangakkara', 'Yuvra...   \n",
              "949    NaN     BB McCullum  ['R Dravid', 'W Jaffer', 'V Kohli', 'JH Kallis...   \n",
              "\n",
              "                                          Team2Players        Umpire1  \\\n",
              "0    ['WP Saha', 'Shubman Gill', 'MS Wade', 'HH Pan...    CB Gaffaney   \n",
              "1    ['YBK Jaiswal', 'JC Buttler', 'SV Samson', 'D ...    CB Gaffaney   \n",
              "2    ['Q de Kock', 'KL Rahul', 'M Vohra', 'DJ Hooda...  J Madanagopal   \n",
              "3    ['WP Saha', 'Shubman Gill', 'MS Wade', 'HH Pan...   BNJ Oxenford   \n",
              "4    ['JM Bairstow', 'S Dhawan', 'M Shahrukh Khan',...   AK Chaudhary   \n",
              "..                                                 ...            ...   \n",
              "945  ['AC Gilchrist', 'Y Venugopal Rao', 'VVS Laxma...      BF Bowden   \n",
              "946  ['S Chanderpaul', 'R Dravid', 'LRPL Taylor', '...       SJ Davis   \n",
              "947  ['T Kohli', 'YK Pathan', 'SR Watson', 'M Kaif'...      Aleem Dar   \n",
              "948  ['PA Patel', 'ML Hayden', 'MEK Hussey', 'MS Dh...      MR Benson   \n",
              "949  ['SC Ganguly', 'BB McCullum', 'RT Ponting', 'D...      Asad Rauf   \n",
              "\n",
              "            Umpire2  \n",
              "0       Nitin Menon  \n",
              "1       Nitin Menon  \n",
              "2          MA Gough  \n",
              "3         VK Sharma  \n",
              "4     NA Patwardhan  \n",
              "..              ...  \n",
              "945     K Hariharan  \n",
              "946       DJ Harper  \n",
              "947  GA Pratapkumar  \n",
              "948      SL Shastri  \n",
              "949     RE Koertzen  \n",
              "\n",
              "[950 rows x 20 columns]"
            ]
          },
          "execution_count": 9,
          "metadata": {},
          "output_type": "execute_result"
        }
      ],
      "source": [
        "data_match"
      ]
    },
    {
      "cell_type": "markdown",
      "metadata": {
        "id": "FxiAJrfCDnuB"
      },
      "source": [
        "#3) PreProcessing"
      ]
    },
    {
      "cell_type": "markdown",
      "metadata": {
        "id": "1uKs8sqUI-3D"
      },
      "source": [
        "##a) Removing Redundant columns in Ball by Ball Data\n",
        "As we can see, there are many columns which are redundant for our purpose, hence we have to remove those from our data set i.e. data_ball"
      ]
    },
    {
      "cell_type": "code",
      "execution_count": null,
      "metadata": {
        "id": "h4rBqt63JHF2"
      },
      "outputs": [],
      "source": [
        "def drop_redundant_fea_bowl(data):\n",
        "  #Storing all the redundant features in a List\n",
        "  L = ['extra_type', 'batsman_run', 'extras_run','non_boundary', 'isWicketDelivery', 'player_out', 'kind',\n",
        "        'fielders_involved','ballnumber','non-striker']\n",
        "  #Using drop feature to remove them from our data\n",
        "  data = data.drop(L,axis = 1)\n",
        "  return data\n",
        "\n",
        "data_ball = drop_redundant_fea_bowl(data_ball)"
      ]
    },
    {
      "cell_type": "code",
      "execution_count": null,
      "metadata": {
        "colab": {
          "base_uri": "https://localhost:8080/",
          "height": 206
        },
        "id": "EsrMNMWqKNOO",
        "outputId": "a0a3f2d2-31a9-48ac-d4ac-cf981f70edc7"
      },
      "outputs": [
        {
          "data": {
            "text/html": [
              "\n",
              "  <div id=\"df-5ec3a7fd-e8fe-4ba5-b90e-3675f105d467\">\n",
              "    <div class=\"colab-df-container\">\n",
              "      <div>\n",
              "<style scoped>\n",
              "    .dataframe tbody tr th:only-of-type {\n",
              "        vertical-align: middle;\n",
              "    }\n",
              "\n",
              "    .dataframe tbody tr th {\n",
              "        vertical-align: top;\n",
              "    }\n",
              "\n",
              "    .dataframe thead th {\n",
              "        text-align: right;\n",
              "    }\n",
              "</style>\n",
              "<table border=\"1\" class=\"dataframe\">\n",
              "  <thead>\n",
              "    <tr style=\"text-align: right;\">\n",
              "      <th></th>\n",
              "      <th>ID</th>\n",
              "      <th>innings</th>\n",
              "      <th>overs</th>\n",
              "      <th>batter</th>\n",
              "      <th>bowler</th>\n",
              "      <th>total_run</th>\n",
              "      <th>BattingTeam</th>\n",
              "    </tr>\n",
              "  </thead>\n",
              "  <tbody>\n",
              "    <tr>\n",
              "      <th>0</th>\n",
              "      <td>1312200</td>\n",
              "      <td>1</td>\n",
              "      <td>0</td>\n",
              "      <td>YBK Jaiswal</td>\n",
              "      <td>Mohammed Shami</td>\n",
              "      <td>0</td>\n",
              "      <td>Rajasthan Royals</td>\n",
              "    </tr>\n",
              "    <tr>\n",
              "      <th>1</th>\n",
              "      <td>1312200</td>\n",
              "      <td>1</td>\n",
              "      <td>0</td>\n",
              "      <td>YBK Jaiswal</td>\n",
              "      <td>Mohammed Shami</td>\n",
              "      <td>1</td>\n",
              "      <td>Rajasthan Royals</td>\n",
              "    </tr>\n",
              "    <tr>\n",
              "      <th>2</th>\n",
              "      <td>1312200</td>\n",
              "      <td>1</td>\n",
              "      <td>0</td>\n",
              "      <td>JC Buttler</td>\n",
              "      <td>Mohammed Shami</td>\n",
              "      <td>1</td>\n",
              "      <td>Rajasthan Royals</td>\n",
              "    </tr>\n",
              "    <tr>\n",
              "      <th>3</th>\n",
              "      <td>1312200</td>\n",
              "      <td>1</td>\n",
              "      <td>0</td>\n",
              "      <td>YBK Jaiswal</td>\n",
              "      <td>Mohammed Shami</td>\n",
              "      <td>0</td>\n",
              "      <td>Rajasthan Royals</td>\n",
              "    </tr>\n",
              "    <tr>\n",
              "      <th>4</th>\n",
              "      <td>1312200</td>\n",
              "      <td>1</td>\n",
              "      <td>0</td>\n",
              "      <td>YBK Jaiswal</td>\n",
              "      <td>Mohammed Shami</td>\n",
              "      <td>0</td>\n",
              "      <td>Rajasthan Royals</td>\n",
              "    </tr>\n",
              "  </tbody>\n",
              "</table>\n",
              "</div>\n",
              "      <button class=\"colab-df-convert\" onclick=\"convertToInteractive('df-5ec3a7fd-e8fe-4ba5-b90e-3675f105d467')\"\n",
              "              title=\"Convert this dataframe to an interactive table.\"\n",
              "              style=\"display:none;\">\n",
              "        \n",
              "  <svg xmlns=\"http://www.w3.org/2000/svg\" height=\"24px\"viewBox=\"0 0 24 24\"\n",
              "       width=\"24px\">\n",
              "    <path d=\"M0 0h24v24H0V0z\" fill=\"none\"/>\n",
              "    <path d=\"M18.56 5.44l.94 2.06.94-2.06 2.06-.94-2.06-.94-.94-2.06-.94 2.06-2.06.94zm-11 1L8.5 8.5l.94-2.06 2.06-.94-2.06-.94L8.5 2.5l-.94 2.06-2.06.94zm10 10l.94 2.06.94-2.06 2.06-.94-2.06-.94-.94-2.06-.94 2.06-2.06.94z\"/><path d=\"M17.41 7.96l-1.37-1.37c-.4-.4-.92-.59-1.43-.59-.52 0-1.04.2-1.43.59L10.3 9.45l-7.72 7.72c-.78.78-.78 2.05 0 2.83L4 21.41c.39.39.9.59 1.41.59.51 0 1.02-.2 1.41-.59l7.78-7.78 2.81-2.81c.8-.78.8-2.07 0-2.86zM5.41 20L4 18.59l7.72-7.72 1.47 1.35L5.41 20z\"/>\n",
              "  </svg>\n",
              "      </button>\n",
              "      \n",
              "  <style>\n",
              "    .colab-df-container {\n",
              "      display:flex;\n",
              "      flex-wrap:wrap;\n",
              "      gap: 12px;\n",
              "    }\n",
              "\n",
              "    .colab-df-convert {\n",
              "      background-color: #E8F0FE;\n",
              "      border: none;\n",
              "      border-radius: 50%;\n",
              "      cursor: pointer;\n",
              "      display: none;\n",
              "      fill: #1967D2;\n",
              "      height: 32px;\n",
              "      padding: 0 0 0 0;\n",
              "      width: 32px;\n",
              "    }\n",
              "\n",
              "    .colab-df-convert:hover {\n",
              "      background-color: #E2EBFA;\n",
              "      box-shadow: 0px 1px 2px rgba(60, 64, 67, 0.3), 0px 1px 3px 1px rgba(60, 64, 67, 0.15);\n",
              "      fill: #174EA6;\n",
              "    }\n",
              "\n",
              "    [theme=dark] .colab-df-convert {\n",
              "      background-color: #3B4455;\n",
              "      fill: #D2E3FC;\n",
              "    }\n",
              "\n",
              "    [theme=dark] .colab-df-convert:hover {\n",
              "      background-color: #434B5C;\n",
              "      box-shadow: 0px 1px 3px 1px rgba(0, 0, 0, 0.15);\n",
              "      filter: drop-shadow(0px 1px 2px rgba(0, 0, 0, 0.3));\n",
              "      fill: #FFFFFF;\n",
              "    }\n",
              "  </style>\n",
              "\n",
              "      <script>\n",
              "        const buttonEl =\n",
              "          document.querySelector('#df-5ec3a7fd-e8fe-4ba5-b90e-3675f105d467 button.colab-df-convert');\n",
              "        buttonEl.style.display =\n",
              "          google.colab.kernel.accessAllowed ? 'block' : 'none';\n",
              "\n",
              "        async function convertToInteractive(key) {\n",
              "          const element = document.querySelector('#df-5ec3a7fd-e8fe-4ba5-b90e-3675f105d467');\n",
              "          const dataTable =\n",
              "            await google.colab.kernel.invokeFunction('convertToInteractive',\n",
              "                                                     [key], {});\n",
              "          if (!dataTable) return;\n",
              "\n",
              "          const docLinkHtml = 'Like what you see? Visit the ' +\n",
              "            '<a target=\"_blank\" href=https://colab.research.google.com/notebooks/data_table.ipynb>data table notebook</a>'\n",
              "            + ' to learn more about interactive tables.';\n",
              "          element.innerHTML = '';\n",
              "          dataTable['output_type'] = 'display_data';\n",
              "          await google.colab.output.renderOutput(dataTable, element);\n",
              "          const docLink = document.createElement('div');\n",
              "          docLink.innerHTML = docLinkHtml;\n",
              "          element.appendChild(docLink);\n",
              "        }\n",
              "      </script>\n",
              "    </div>\n",
              "  </div>\n",
              "  "
            ],
            "text/plain": [
              "        ID  innings  overs       batter          bowler  total_run  \\\n",
              "0  1312200        1      0  YBK Jaiswal  Mohammed Shami          0   \n",
              "1  1312200        1      0  YBK Jaiswal  Mohammed Shami          1   \n",
              "2  1312200        1      0   JC Buttler  Mohammed Shami          1   \n",
              "3  1312200        1      0  YBK Jaiswal  Mohammed Shami          0   \n",
              "4  1312200        1      0  YBK Jaiswal  Mohammed Shami          0   \n",
              "\n",
              "        BattingTeam  \n",
              "0  Rajasthan Royals  \n",
              "1  Rajasthan Royals  \n",
              "2  Rajasthan Royals  \n",
              "3  Rajasthan Royals  \n",
              "4  Rajasthan Royals  "
            ]
          },
          "execution_count": 11,
          "metadata": {},
          "output_type": "execute_result"
        }
      ],
      "source": [
        "data_ball.head()"
      ]
    },
    {
      "cell_type": "markdown",
      "metadata": {
        "id": "SrU6EulXwxy3"
      },
      "source": [
        "Now, since our aim is to predict power play runs, it is important that we remove entries from the overs not in power play i.e. over 6-20 (14 overs)."
      ]
    },
    {
      "cell_type": "code",
      "execution_count": null,
      "metadata": {
        "id": "QgMjFTNkw5XI"
      },
      "outputs": [],
      "source": [
        "def powerplay_cap(data):\n",
        "  #Selecting all overs from 0-6 (since indexing begins at 0, we select <= 5)\n",
        "  data = data[data_ball['overs']<= 5]\n",
        "  return data\n",
        "\n",
        "data_ball = powerplay_cap(data_ball)"
      ]
    },
    {
      "cell_type": "code",
      "execution_count": null,
      "metadata": {
        "colab": {
          "base_uri": "https://localhost:8080/",
          "height": 206
        },
        "id": "olF1Rz-wySP6",
        "outputId": "0788dd20-cfc3-4c69-a388-57d7b640739f"
      },
      "outputs": [
        {
          "data": {
            "text/html": [
              "\n",
              "  <div id=\"df-70b05a2e-8b38-437a-a569-8c75e97551eb\">\n",
              "    <div class=\"colab-df-container\">\n",
              "      <div>\n",
              "<style scoped>\n",
              "    .dataframe tbody tr th:only-of-type {\n",
              "        vertical-align: middle;\n",
              "    }\n",
              "\n",
              "    .dataframe tbody tr th {\n",
              "        vertical-align: top;\n",
              "    }\n",
              "\n",
              "    .dataframe thead th {\n",
              "        text-align: right;\n",
              "    }\n",
              "</style>\n",
              "<table border=\"1\" class=\"dataframe\">\n",
              "  <thead>\n",
              "    <tr style=\"text-align: right;\">\n",
              "      <th></th>\n",
              "      <th>ID</th>\n",
              "      <th>innings</th>\n",
              "      <th>overs</th>\n",
              "      <th>batter</th>\n",
              "      <th>bowler</th>\n",
              "      <th>total_run</th>\n",
              "      <th>BattingTeam</th>\n",
              "    </tr>\n",
              "  </thead>\n",
              "  <tbody>\n",
              "    <tr>\n",
              "      <th>0</th>\n",
              "      <td>1312200</td>\n",
              "      <td>1</td>\n",
              "      <td>0</td>\n",
              "      <td>YBK Jaiswal</td>\n",
              "      <td>Mohammed Shami</td>\n",
              "      <td>0</td>\n",
              "      <td>Rajasthan Royals</td>\n",
              "    </tr>\n",
              "    <tr>\n",
              "      <th>1</th>\n",
              "      <td>1312200</td>\n",
              "      <td>1</td>\n",
              "      <td>0</td>\n",
              "      <td>YBK Jaiswal</td>\n",
              "      <td>Mohammed Shami</td>\n",
              "      <td>1</td>\n",
              "      <td>Rajasthan Royals</td>\n",
              "    </tr>\n",
              "    <tr>\n",
              "      <th>2</th>\n",
              "      <td>1312200</td>\n",
              "      <td>1</td>\n",
              "      <td>0</td>\n",
              "      <td>JC Buttler</td>\n",
              "      <td>Mohammed Shami</td>\n",
              "      <td>1</td>\n",
              "      <td>Rajasthan Royals</td>\n",
              "    </tr>\n",
              "    <tr>\n",
              "      <th>3</th>\n",
              "      <td>1312200</td>\n",
              "      <td>1</td>\n",
              "      <td>0</td>\n",
              "      <td>YBK Jaiswal</td>\n",
              "      <td>Mohammed Shami</td>\n",
              "      <td>0</td>\n",
              "      <td>Rajasthan Royals</td>\n",
              "    </tr>\n",
              "    <tr>\n",
              "      <th>4</th>\n",
              "      <td>1312200</td>\n",
              "      <td>1</td>\n",
              "      <td>0</td>\n",
              "      <td>YBK Jaiswal</td>\n",
              "      <td>Mohammed Shami</td>\n",
              "      <td>0</td>\n",
              "      <td>Rajasthan Royals</td>\n",
              "    </tr>\n",
              "  </tbody>\n",
              "</table>\n",
              "</div>\n",
              "      <button class=\"colab-df-convert\" onclick=\"convertToInteractive('df-70b05a2e-8b38-437a-a569-8c75e97551eb')\"\n",
              "              title=\"Convert this dataframe to an interactive table.\"\n",
              "              style=\"display:none;\">\n",
              "        \n",
              "  <svg xmlns=\"http://www.w3.org/2000/svg\" height=\"24px\"viewBox=\"0 0 24 24\"\n",
              "       width=\"24px\">\n",
              "    <path d=\"M0 0h24v24H0V0z\" fill=\"none\"/>\n",
              "    <path d=\"M18.56 5.44l.94 2.06.94-2.06 2.06-.94-2.06-.94-.94-2.06-.94 2.06-2.06.94zm-11 1L8.5 8.5l.94-2.06 2.06-.94-2.06-.94L8.5 2.5l-.94 2.06-2.06.94zm10 10l.94 2.06.94-2.06 2.06-.94-2.06-.94-.94-2.06-.94 2.06-2.06.94z\"/><path d=\"M17.41 7.96l-1.37-1.37c-.4-.4-.92-.59-1.43-.59-.52 0-1.04.2-1.43.59L10.3 9.45l-7.72 7.72c-.78.78-.78 2.05 0 2.83L4 21.41c.39.39.9.59 1.41.59.51 0 1.02-.2 1.41-.59l7.78-7.78 2.81-2.81c.8-.78.8-2.07 0-2.86zM5.41 20L4 18.59l7.72-7.72 1.47 1.35L5.41 20z\"/>\n",
              "  </svg>\n",
              "      </button>\n",
              "      \n",
              "  <style>\n",
              "    .colab-df-container {\n",
              "      display:flex;\n",
              "      flex-wrap:wrap;\n",
              "      gap: 12px;\n",
              "    }\n",
              "\n",
              "    .colab-df-convert {\n",
              "      background-color: #E8F0FE;\n",
              "      border: none;\n",
              "      border-radius: 50%;\n",
              "      cursor: pointer;\n",
              "      display: none;\n",
              "      fill: #1967D2;\n",
              "      height: 32px;\n",
              "      padding: 0 0 0 0;\n",
              "      width: 32px;\n",
              "    }\n",
              "\n",
              "    .colab-df-convert:hover {\n",
              "      background-color: #E2EBFA;\n",
              "      box-shadow: 0px 1px 2px rgba(60, 64, 67, 0.3), 0px 1px 3px 1px rgba(60, 64, 67, 0.15);\n",
              "      fill: #174EA6;\n",
              "    }\n",
              "\n",
              "    [theme=dark] .colab-df-convert {\n",
              "      background-color: #3B4455;\n",
              "      fill: #D2E3FC;\n",
              "    }\n",
              "\n",
              "    [theme=dark] .colab-df-convert:hover {\n",
              "      background-color: #434B5C;\n",
              "      box-shadow: 0px 1px 3px 1px rgba(0, 0, 0, 0.15);\n",
              "      filter: drop-shadow(0px 1px 2px rgba(0, 0, 0, 0.3));\n",
              "      fill: #FFFFFF;\n",
              "    }\n",
              "  </style>\n",
              "\n",
              "      <script>\n",
              "        const buttonEl =\n",
              "          document.querySelector('#df-70b05a2e-8b38-437a-a569-8c75e97551eb button.colab-df-convert');\n",
              "        buttonEl.style.display =\n",
              "          google.colab.kernel.accessAllowed ? 'block' : 'none';\n",
              "\n",
              "        async function convertToInteractive(key) {\n",
              "          const element = document.querySelector('#df-70b05a2e-8b38-437a-a569-8c75e97551eb');\n",
              "          const dataTable =\n",
              "            await google.colab.kernel.invokeFunction('convertToInteractive',\n",
              "                                                     [key], {});\n",
              "          if (!dataTable) return;\n",
              "\n",
              "          const docLinkHtml = 'Like what you see? Visit the ' +\n",
              "            '<a target=\"_blank\" href=https://colab.research.google.com/notebooks/data_table.ipynb>data table notebook</a>'\n",
              "            + ' to learn more about interactive tables.';\n",
              "          element.innerHTML = '';\n",
              "          dataTable['output_type'] = 'display_data';\n",
              "          await google.colab.output.renderOutput(dataTable, element);\n",
              "          const docLink = document.createElement('div');\n",
              "          docLink.innerHTML = docLinkHtml;\n",
              "          element.appendChild(docLink);\n",
              "        }\n",
              "      </script>\n",
              "    </div>\n",
              "  </div>\n",
              "  "
            ],
            "text/plain": [
              "        ID  innings  overs       batter          bowler  total_run  \\\n",
              "0  1312200        1      0  YBK Jaiswal  Mohammed Shami          0   \n",
              "1  1312200        1      0  YBK Jaiswal  Mohammed Shami          1   \n",
              "2  1312200        1      0   JC Buttler  Mohammed Shami          1   \n",
              "3  1312200        1      0  YBK Jaiswal  Mohammed Shami          0   \n",
              "4  1312200        1      0  YBK Jaiswal  Mohammed Shami          0   \n",
              "\n",
              "        BattingTeam  \n",
              "0  Rajasthan Royals  \n",
              "1  Rajasthan Royals  \n",
              "2  Rajasthan Royals  \n",
              "3  Rajasthan Royals  \n",
              "4  Rajasthan Royals  "
            ]
          },
          "execution_count": 13,
          "metadata": {},
          "output_type": "execute_result"
        }
      ],
      "source": [
        "data_ball.head()"
      ]
    },
    {
      "cell_type": "markdown",
      "metadata": {
        "id": "eahs_bCqIqZ3"
      },
      "source": [
        "## b) Create a merged dataset, which converts our data in the format of input data set\n",
        "Here, we need to group our data based on ID of each match and innings. However, since most of the variables are categorical variables and hence, have string values, we will have to use 'lambda' function to join these values together and remove duplications"
      ]
    },
    {
      "cell_type": "code",
      "execution_count": null,
      "metadata": {
        "id": "ghX1yjlf8O-z"
      },
      "outputs": [],
      "source": [
        "def merge_strings_data(data):\n",
        "  #We use agg() function to aggregate the column values based on grouping by 'ID' and 'innings'\n",
        "  #Using ',' is a way by which we are cumilating these values with the de limiter of a ,\n",
        "  #Now we use join(set(_)) to join these values by removing duplicates in the way\n",
        "  #Also, since 'total_run' is a numeric value, we can use 'sum' straight away to aggregate those values\n",
        "  merged = data.groupby(['ID', 'innings']).agg({'batter': lambda g: ','.join(set(g)),'bowler': lambda g: ','.join(set(g)),'BattingTeam': lambda g: ','.join(set(g)),'total_run': 'sum'}).reset_index()\n",
        "  return merged"
      ]
    },
    {
      "cell_type": "code",
      "execution_count": null,
      "metadata": {
        "id": "4uPODhg59nx2"
      },
      "outputs": [],
      "source": [
        "merged = merge_strings_data(data_ball)"
      ]
    },
    {
      "cell_type": "code",
      "execution_count": null,
      "metadata": {
        "colab": {
          "base_uri": "https://localhost:8080/",
          "height": 624
        },
        "id": "N-Ila0EiwBbF",
        "outputId": "c37413cd-4255-4ab8-883c-cf55d2a4734b"
      },
      "outputs": [
        {
          "data": {
            "text/html": [
              "\n",
              "  <div id=\"df-4c6d1023-22d2-4823-b9e8-af2839e291e6\">\n",
              "    <div class=\"colab-df-container\">\n",
              "      <div>\n",
              "<style scoped>\n",
              "    .dataframe tbody tr th:only-of-type {\n",
              "        vertical-align: middle;\n",
              "    }\n",
              "\n",
              "    .dataframe tbody tr th {\n",
              "        vertical-align: top;\n",
              "    }\n",
              "\n",
              "    .dataframe thead th {\n",
              "        text-align: right;\n",
              "    }\n",
              "</style>\n",
              "<table border=\"1\" class=\"dataframe\">\n",
              "  <thead>\n",
              "    <tr style=\"text-align: right;\">\n",
              "      <th></th>\n",
              "      <th>ID</th>\n",
              "      <th>innings</th>\n",
              "      <th>batter</th>\n",
              "      <th>bowler</th>\n",
              "      <th>BattingTeam</th>\n",
              "      <th>total_run</th>\n",
              "    </tr>\n",
              "  </thead>\n",
              "  <tbody>\n",
              "    <tr>\n",
              "      <th>0</th>\n",
              "      <td>1136582</td>\n",
              "      <td>1</td>\n",
              "      <td>KK Nair,KL Rahul,AJ Finch,MA Agarwal</td>\n",
              "      <td>TA Boult,LE Plunkett,Avesh Khan</td>\n",
              "      <td>Kings XI Punjab</td>\n",
              "      <td>51</td>\n",
              "    </tr>\n",
              "    <tr>\n",
              "      <th>1</th>\n",
              "      <td>1136582</td>\n",
              "      <td>2</td>\n",
              "      <td>G Gambhir,RR Pant,GJ Maxwell,SS Iyer,PP Shaw</td>\n",
              "      <td>BB Sran,AJ Tye,AS Rajpoot</td>\n",
              "      <td>Delhi Daredevils</td>\n",
              "      <td>48</td>\n",
              "    </tr>\n",
              "    <tr>\n",
              "      <th>2</th>\n",
              "      <td>1136583</td>\n",
              "      <td>1</td>\n",
              "      <td>Shakib Al Hasan,KS Williamson,WP Saha,S Dhawan...</td>\n",
              "      <td>JJ Bumrah,HH Pandya,MJ McClenaghan</td>\n",
              "      <td>Sunrisers Hyderabad</td>\n",
              "      <td>51</td>\n",
              "    </tr>\n",
              "    <tr>\n",
              "      <th>3</th>\n",
              "      <td>1136583</td>\n",
              "      <td>2</td>\n",
              "      <td>E Lewis,RG Sharma,Ishan Kishan,SA Yadav,KH Pandya</td>\n",
              "      <td>Mohammad Nabi,Sandeep Sharma,Shakib Al Hasan</td>\n",
              "      <td>Mumbai Indians</td>\n",
              "      <td>22</td>\n",
              "    </tr>\n",
              "    <tr>\n",
              "      <th>4</th>\n",
              "      <td>1136584</td>\n",
              "      <td>1</td>\n",
              "      <td>Q de Kock,AB de Villiers,V Kohli</td>\n",
              "      <td>Harbhajan Singh,SN Thakur,DL Chahar</td>\n",
              "      <td>Royal Challengers Bangalore</td>\n",
              "      <td>52</td>\n",
              "    </tr>\n",
              "    <tr>\n",
              "      <th>...</th>\n",
              "      <td>...</td>\n",
              "      <td>...</td>\n",
              "      <td>...</td>\n",
              "      <td>...</td>\n",
              "      <td>...</td>\n",
              "      <td>...</td>\n",
              "    </tr>\n",
              "    <tr>\n",
              "      <th>597</th>\n",
              "      <td>1312198</td>\n",
              "      <td>2</td>\n",
              "      <td>Q de Kock,KL Rahul,M Vohra,DJ Hooda</td>\n",
              "      <td>Mohammed Siraj,Shahbaz Ahmed,JR Hazlewood</td>\n",
              "      <td>Lucknow Super Giants</td>\n",
              "      <td>62</td>\n",
              "    </tr>\n",
              "    <tr>\n",
              "      <th>598</th>\n",
              "      <td>1312199</td>\n",
              "      <td>1</td>\n",
              "      <td>RM Patidar,V Kohli,F du Plessis</td>\n",
              "      <td>TA Boult,M Prasidh Krishna</td>\n",
              "      <td>Royal Challengers Bangalore</td>\n",
              "      <td>46</td>\n",
              "    </tr>\n",
              "    <tr>\n",
              "      <th>599</th>\n",
              "      <td>1312199</td>\n",
              "      <td>2</td>\n",
              "      <td>SV Samson,YBK Jaiswal,JC Buttler</td>\n",
              "      <td>Mohammed Siraj,Shahbaz Ahmed,GJ Maxwell,JR Haz...</td>\n",
              "      <td>Rajasthan Royals</td>\n",
              "      <td>67</td>\n",
              "    </tr>\n",
              "    <tr>\n",
              "      <th>600</th>\n",
              "      <td>1312200</td>\n",
              "      <td>1</td>\n",
              "      <td>SV Samson,YBK Jaiswal,JC Buttler</td>\n",
              "      <td>LH Ferguson,Yash Dayal,Mohammed Shami,Rashid Khan</td>\n",
              "      <td>Rajasthan Royals</td>\n",
              "      <td>44</td>\n",
              "    </tr>\n",
              "    <tr>\n",
              "      <th>601</th>\n",
              "      <td>1312200</td>\n",
              "      <td>2</td>\n",
              "      <td>Shubman Gill,MS Wade,HH Pandya,WP Saha</td>\n",
              "      <td>TA Boult,YS Chahal,M Prasidh Krishna</td>\n",
              "      <td>Gujarat Titans</td>\n",
              "      <td>31</td>\n",
              "    </tr>\n",
              "  </tbody>\n",
              "</table>\n",
              "<p>602 rows × 6 columns</p>\n",
              "</div>\n",
              "      <button class=\"colab-df-convert\" onclick=\"convertToInteractive('df-4c6d1023-22d2-4823-b9e8-af2839e291e6')\"\n",
              "              title=\"Convert this dataframe to an interactive table.\"\n",
              "              style=\"display:none;\">\n",
              "        \n",
              "  <svg xmlns=\"http://www.w3.org/2000/svg\" height=\"24px\"viewBox=\"0 0 24 24\"\n",
              "       width=\"24px\">\n",
              "    <path d=\"M0 0h24v24H0V0z\" fill=\"none\"/>\n",
              "    <path d=\"M18.56 5.44l.94 2.06.94-2.06 2.06-.94-2.06-.94-.94-2.06-.94 2.06-2.06.94zm-11 1L8.5 8.5l.94-2.06 2.06-.94-2.06-.94L8.5 2.5l-.94 2.06-2.06.94zm10 10l.94 2.06.94-2.06 2.06-.94-2.06-.94-.94-2.06-.94 2.06-2.06.94z\"/><path d=\"M17.41 7.96l-1.37-1.37c-.4-.4-.92-.59-1.43-.59-.52 0-1.04.2-1.43.59L10.3 9.45l-7.72 7.72c-.78.78-.78 2.05 0 2.83L4 21.41c.39.39.9.59 1.41.59.51 0 1.02-.2 1.41-.59l7.78-7.78 2.81-2.81c.8-.78.8-2.07 0-2.86zM5.41 20L4 18.59l7.72-7.72 1.47 1.35L5.41 20z\"/>\n",
              "  </svg>\n",
              "      </button>\n",
              "      \n",
              "  <style>\n",
              "    .colab-df-container {\n",
              "      display:flex;\n",
              "      flex-wrap:wrap;\n",
              "      gap: 12px;\n",
              "    }\n",
              "\n",
              "    .colab-df-convert {\n",
              "      background-color: #E8F0FE;\n",
              "      border: none;\n",
              "      border-radius: 50%;\n",
              "      cursor: pointer;\n",
              "      display: none;\n",
              "      fill: #1967D2;\n",
              "      height: 32px;\n",
              "      padding: 0 0 0 0;\n",
              "      width: 32px;\n",
              "    }\n",
              "\n",
              "    .colab-df-convert:hover {\n",
              "      background-color: #E2EBFA;\n",
              "      box-shadow: 0px 1px 2px rgba(60, 64, 67, 0.3), 0px 1px 3px 1px rgba(60, 64, 67, 0.15);\n",
              "      fill: #174EA6;\n",
              "    }\n",
              "\n",
              "    [theme=dark] .colab-df-convert {\n",
              "      background-color: #3B4455;\n",
              "      fill: #D2E3FC;\n",
              "    }\n",
              "\n",
              "    [theme=dark] .colab-df-convert:hover {\n",
              "      background-color: #434B5C;\n",
              "      box-shadow: 0px 1px 3px 1px rgba(0, 0, 0, 0.15);\n",
              "      filter: drop-shadow(0px 1px 2px rgba(0, 0, 0, 0.3));\n",
              "      fill: #FFFFFF;\n",
              "    }\n",
              "  </style>\n",
              "\n",
              "      <script>\n",
              "        const buttonEl =\n",
              "          document.querySelector('#df-4c6d1023-22d2-4823-b9e8-af2839e291e6 button.colab-df-convert');\n",
              "        buttonEl.style.display =\n",
              "          google.colab.kernel.accessAllowed ? 'block' : 'none';\n",
              "\n",
              "        async function convertToInteractive(key) {\n",
              "          const element = document.querySelector('#df-4c6d1023-22d2-4823-b9e8-af2839e291e6');\n",
              "          const dataTable =\n",
              "            await google.colab.kernel.invokeFunction('convertToInteractive',\n",
              "                                                     [key], {});\n",
              "          if (!dataTable) return;\n",
              "\n",
              "          const docLinkHtml = 'Like what you see? Visit the ' +\n",
              "            '<a target=\"_blank\" href=https://colab.research.google.com/notebooks/data_table.ipynb>data table notebook</a>'\n",
              "            + ' to learn more about interactive tables.';\n",
              "          element.innerHTML = '';\n",
              "          dataTable['output_type'] = 'display_data';\n",
              "          await google.colab.output.renderOutput(dataTable, element);\n",
              "          const docLink = document.createElement('div');\n",
              "          docLink.innerHTML = docLinkHtml;\n",
              "          element.appendChild(docLink);\n",
              "        }\n",
              "      </script>\n",
              "    </div>\n",
              "  </div>\n",
              "  "
            ],
            "text/plain": [
              "          ID  innings                                             batter  \\\n",
              "0    1136582        1               KK Nair,KL Rahul,AJ Finch,MA Agarwal   \n",
              "1    1136582        2       G Gambhir,RR Pant,GJ Maxwell,SS Iyer,PP Shaw   \n",
              "2    1136583        1  Shakib Al Hasan,KS Williamson,WP Saha,S Dhawan...   \n",
              "3    1136583        2  E Lewis,RG Sharma,Ishan Kishan,SA Yadav,KH Pandya   \n",
              "4    1136584        1                   Q de Kock,AB de Villiers,V Kohli   \n",
              "..       ...      ...                                                ...   \n",
              "597  1312198        2                Q de Kock,KL Rahul,M Vohra,DJ Hooda   \n",
              "598  1312199        1                    RM Patidar,V Kohli,F du Plessis   \n",
              "599  1312199        2                   SV Samson,YBK Jaiswal,JC Buttler   \n",
              "600  1312200        1                   SV Samson,YBK Jaiswal,JC Buttler   \n",
              "601  1312200        2             Shubman Gill,MS Wade,HH Pandya,WP Saha   \n",
              "\n",
              "                                                bowler  \\\n",
              "0                      TA Boult,LE Plunkett,Avesh Khan   \n",
              "1                            BB Sran,AJ Tye,AS Rajpoot   \n",
              "2                   JJ Bumrah,HH Pandya,MJ McClenaghan   \n",
              "3         Mohammad Nabi,Sandeep Sharma,Shakib Al Hasan   \n",
              "4                  Harbhajan Singh,SN Thakur,DL Chahar   \n",
              "..                                                 ...   \n",
              "597          Mohammed Siraj,Shahbaz Ahmed,JR Hazlewood   \n",
              "598                         TA Boult,M Prasidh Krishna   \n",
              "599  Mohammed Siraj,Shahbaz Ahmed,GJ Maxwell,JR Haz...   \n",
              "600  LH Ferguson,Yash Dayal,Mohammed Shami,Rashid Khan   \n",
              "601               TA Boult,YS Chahal,M Prasidh Krishna   \n",
              "\n",
              "                     BattingTeam  total_run  \n",
              "0                Kings XI Punjab         51  \n",
              "1               Delhi Daredevils         48  \n",
              "2            Sunrisers Hyderabad         51  \n",
              "3                 Mumbai Indians         22  \n",
              "4    Royal Challengers Bangalore         52  \n",
              "..                           ...        ...  \n",
              "597         Lucknow Super Giants         62  \n",
              "598  Royal Challengers Bangalore         46  \n",
              "599             Rajasthan Royals         67  \n",
              "600             Rajasthan Royals         44  \n",
              "601               Gujarat Titans         31  \n",
              "\n",
              "[602 rows x 6 columns]"
            ]
          },
          "execution_count": 16,
          "metadata": {},
          "output_type": "execute_result"
        }
      ],
      "source": [
        "merged"
      ]
    },
    {
      "cell_type": "markdown",
      "metadata": {
        "id": "ctQr7rWVPYsR"
      },
      "source": [
        "##c) Creating Common Database\n",
        "Now, we can merge both our databases i.e. data_ball and data_match to get all the information we have available and use it from one common dataframe"
      ]
    },
    {
      "cell_type": "code",
      "execution_count": null,
      "metadata": {
        "id": "LXilPH0ZPbMS"
      },
      "outputs": [],
      "source": [
        "def merge_databases(data1,data2):\n",
        "  #We use merge function to merge both the dataframes on the common column i.e. 'ID'\n",
        "  data = pd.merge(data1,data2, on = ['ID'])\n",
        "  return data\n",
        "\n",
        "data = merge_databases(merged,data_match)\n"
      ]
    },
    {
      "cell_type": "markdown",
      "metadata": {
        "id": "kMDzNSepzzTe"
      },
      "source": [
        "Now, we can also see that there are some redundant features in our final dataframe also, which we do not need in our initial stage. Hence we can remove those"
      ]
    },
    {
      "cell_type": "code",
      "execution_count": null,
      "metadata": {
        "id": "VTRukKyJO0oR"
      },
      "outputs": [],
      "source": [
        "def drop_redundant_fea_match(data):\n",
        "  #We store those redundant columns in a List and drop those from our dataframe\n",
        "  L = ['WinningTeam', 'WonBy', 'Margin', 'method',\n",
        "       'Player_of_Match','TossWinner', 'TossDecision',\n",
        "       'SuperOver', 'WinningTeam', 'WonBy', 'Margin', 'method',\n",
        "       'Player_of_Match','Umpire1',\n",
        "       'Umpire2','City','Date','Season','MatchNumber','Team1Players','Team2Players']\n",
        "  data = data.drop(L,axis = 1)\n",
        "  return data\n",
        "\n",
        "data = drop_redundant_fea_match(data)"
      ]
    },
    {
      "cell_type": "code",
      "execution_count": null,
      "metadata": {
        "colab": {
          "base_uri": "https://localhost:8080/"
        },
        "id": "7XekmWNtT2RH",
        "outputId": "192b2726-2a2e-4224-f31c-35171a266d8d"
      },
      "outputs": [
        {
          "data": {
            "text/plain": [
              "(602, 9)"
            ]
          },
          "execution_count": 19,
          "metadata": {},
          "output_type": "execute_result"
        }
      ],
      "source": [
        "#Checking the shape of the dataframe till now\n",
        "data.shape\n"
      ]
    },
    {
      "cell_type": "markdown",
      "metadata": {
        "id": "ykhp5Nl688_-"
      },
      "source": [
        "##d) Creating a bowling team column\n",
        "Now, we need a column which has the bowling team for each particular innings, for which we will use Team1 and Team2 columns and compare it to batting team "
      ]
    },
    {
      "cell_type": "code",
      "execution_count": null,
      "metadata": {
        "id": "83SC03lqMTJe"
      },
      "outputs": [],
      "source": [
        "def bowling_team_creation(data):\n",
        "  if data['BattingTeam'] == data[\"Team1\"]:\n",
        "      return data[\"Team2\"]\n",
        "  if data[\"BattingTeam\"] == data[\"Team2\"]:\n",
        "      return data[\"Team1\"]\n",
        "\n",
        "def bowl_team(data):\n",
        "  #We use apply function and the function created above to add bowling team in our data set\n",
        "  data['BowlingTeam'] = data.apply(bowling_team_creation,axis = 1)\n",
        "  return data\n",
        "\n",
        "data = bowl_team(data)"
      ]
    },
    {
      "cell_type": "code",
      "execution_count": null,
      "metadata": {
        "id": "2btIhUdR_bNk"
      },
      "outputs": [],
      "source": [
        "#Now, we can drop Team1 and Team2 from our data, as their work is now done\n",
        "data = data.drop(['Team1','Team2'],axis = 1)"
      ]
    },
    {
      "cell_type": "markdown",
      "metadata": {
        "id": "frrCyxKIP-iM"
      },
      "source": [
        "## e) Renaming & ReIndexing "
      ]
    },
    {
      "cell_type": "code",
      "execution_count": null,
      "metadata": {
        "id": "rk_gXIS1hzj6"
      },
      "outputs": [],
      "source": [
        "def rename_reindex(data):\n",
        "  #We will rename certain columns and reindex them as per our requirements\n",
        "  data = data.rename(columns={'Venue': 'venue', 'batter': 'batsmen', 'bowler': 'bowlers','BattingTeam':'batting_team','BowlingTeam':'bowling_team'})\n",
        "  data = data.reindex(columns=['venue', 'innings', 'batting_team', 'bowling_team','batsmen','bowlers','total_run'])\n",
        "  return data\n",
        "\n",
        "data = rename_reindex(data)"
      ]
    },
    {
      "cell_type": "code",
      "execution_count": null,
      "metadata": {
        "id": "Ow7pkE5HQHQ6"
      },
      "outputs": [],
      "source": [
        "#We can store our final data in the variable x\n",
        "x = data"
      ]
    },
    {
      "cell_type": "code",
      "execution_count": null,
      "metadata": {
        "colab": {
          "base_uri": "https://localhost:8080/",
          "height": 693
        },
        "id": "UhojEwOLKess",
        "outputId": "62527976-ce19-4233-f2bc-9bfad0bc7ce8"
      },
      "outputs": [
        {
          "data": {
            "text/html": [
              "\n",
              "  <div id=\"df-5f82f600-b7b3-49ef-8a34-be7619d18e64\">\n",
              "    <div class=\"colab-df-container\">\n",
              "      <div>\n",
              "<style scoped>\n",
              "    .dataframe tbody tr th:only-of-type {\n",
              "        vertical-align: middle;\n",
              "    }\n",
              "\n",
              "    .dataframe tbody tr th {\n",
              "        vertical-align: top;\n",
              "    }\n",
              "\n",
              "    .dataframe thead th {\n",
              "        text-align: right;\n",
              "    }\n",
              "</style>\n",
              "<table border=\"1\" class=\"dataframe\">\n",
              "  <thead>\n",
              "    <tr style=\"text-align: right;\">\n",
              "      <th></th>\n",
              "      <th>venue</th>\n",
              "      <th>innings</th>\n",
              "      <th>batting_team</th>\n",
              "      <th>bowling_team</th>\n",
              "      <th>batsmen</th>\n",
              "      <th>bowlers</th>\n",
              "      <th>total_run</th>\n",
              "    </tr>\n",
              "  </thead>\n",
              "  <tbody>\n",
              "    <tr>\n",
              "      <th>0</th>\n",
              "      <td>Arun Jaitley Stadium</td>\n",
              "      <td>1</td>\n",
              "      <td>Kings XI Punjab</td>\n",
              "      <td>Delhi Daredevils</td>\n",
              "      <td>KK Nair,KL Rahul,AJ Finch,MA Agarwal</td>\n",
              "      <td>TA Boult,LE Plunkett,Avesh Khan</td>\n",
              "      <td>51</td>\n",
              "    </tr>\n",
              "    <tr>\n",
              "      <th>1</th>\n",
              "      <td>Arun Jaitley Stadium</td>\n",
              "      <td>2</td>\n",
              "      <td>Delhi Daredevils</td>\n",
              "      <td>Kings XI Punjab</td>\n",
              "      <td>G Gambhir,RR Pant,GJ Maxwell,SS Iyer,PP Shaw</td>\n",
              "      <td>BB Sran,AJ Tye,AS Rajpoot</td>\n",
              "      <td>48</td>\n",
              "    </tr>\n",
              "    <tr>\n",
              "      <th>2</th>\n",
              "      <td>Wankhede Stadium</td>\n",
              "      <td>1</td>\n",
              "      <td>Sunrisers Hyderabad</td>\n",
              "      <td>Mumbai Indians</td>\n",
              "      <td>Shakib Al Hasan,KS Williamson,WP Saha,S Dhawan...</td>\n",
              "      <td>JJ Bumrah,HH Pandya,MJ McClenaghan</td>\n",
              "      <td>51</td>\n",
              "    </tr>\n",
              "    <tr>\n",
              "      <th>3</th>\n",
              "      <td>Wankhede Stadium</td>\n",
              "      <td>2</td>\n",
              "      <td>Mumbai Indians</td>\n",
              "      <td>Sunrisers Hyderabad</td>\n",
              "      <td>E Lewis,RG Sharma,Ishan Kishan,SA Yadav,KH Pandya</td>\n",
              "      <td>Mohammad Nabi,Sandeep Sharma,Shakib Al Hasan</td>\n",
              "      <td>22</td>\n",
              "    </tr>\n",
              "    <tr>\n",
              "      <th>4</th>\n",
              "      <td>M.Chinnaswamy Stadium</td>\n",
              "      <td>1</td>\n",
              "      <td>Royal Challengers Bangalore</td>\n",
              "      <td>Chennai Super Kings</td>\n",
              "      <td>Q de Kock,AB de Villiers,V Kohli</td>\n",
              "      <td>Harbhajan Singh,SN Thakur,DL Chahar</td>\n",
              "      <td>52</td>\n",
              "    </tr>\n",
              "    <tr>\n",
              "      <th>...</th>\n",
              "      <td>...</td>\n",
              "      <td>...</td>\n",
              "      <td>...</td>\n",
              "      <td>...</td>\n",
              "      <td>...</td>\n",
              "      <td>...</td>\n",
              "      <td>...</td>\n",
              "    </tr>\n",
              "    <tr>\n",
              "      <th>597</th>\n",
              "      <td>Eden Gardens, Kolkata</td>\n",
              "      <td>2</td>\n",
              "      <td>Lucknow Super Giants</td>\n",
              "      <td>Royal Challengers Bangalore</td>\n",
              "      <td>Q de Kock,KL Rahul,M Vohra,DJ Hooda</td>\n",
              "      <td>Mohammed Siraj,Shahbaz Ahmed,JR Hazlewood</td>\n",
              "      <td>62</td>\n",
              "    </tr>\n",
              "    <tr>\n",
              "      <th>598</th>\n",
              "      <td>Narendra Modi Stadium, Ahmedabad</td>\n",
              "      <td>1</td>\n",
              "      <td>Royal Challengers Bangalore</td>\n",
              "      <td>Rajasthan Royals</td>\n",
              "      <td>RM Patidar,V Kohli,F du Plessis</td>\n",
              "      <td>TA Boult,M Prasidh Krishna</td>\n",
              "      <td>46</td>\n",
              "    </tr>\n",
              "    <tr>\n",
              "      <th>599</th>\n",
              "      <td>Narendra Modi Stadium, Ahmedabad</td>\n",
              "      <td>2</td>\n",
              "      <td>Rajasthan Royals</td>\n",
              "      <td>Royal Challengers Bangalore</td>\n",
              "      <td>SV Samson,YBK Jaiswal,JC Buttler</td>\n",
              "      <td>Mohammed Siraj,Shahbaz Ahmed,GJ Maxwell,JR Haz...</td>\n",
              "      <td>67</td>\n",
              "    </tr>\n",
              "    <tr>\n",
              "      <th>600</th>\n",
              "      <td>Narendra Modi Stadium, Ahmedabad</td>\n",
              "      <td>1</td>\n",
              "      <td>Rajasthan Royals</td>\n",
              "      <td>Gujarat Titans</td>\n",
              "      <td>SV Samson,YBK Jaiswal,JC Buttler</td>\n",
              "      <td>LH Ferguson,Yash Dayal,Mohammed Shami,Rashid Khan</td>\n",
              "      <td>44</td>\n",
              "    </tr>\n",
              "    <tr>\n",
              "      <th>601</th>\n",
              "      <td>Narendra Modi Stadium, Ahmedabad</td>\n",
              "      <td>2</td>\n",
              "      <td>Gujarat Titans</td>\n",
              "      <td>Rajasthan Royals</td>\n",
              "      <td>Shubman Gill,MS Wade,HH Pandya,WP Saha</td>\n",
              "      <td>TA Boult,YS Chahal,M Prasidh Krishna</td>\n",
              "      <td>31</td>\n",
              "    </tr>\n",
              "  </tbody>\n",
              "</table>\n",
              "<p>602 rows × 7 columns</p>\n",
              "</div>\n",
              "      <button class=\"colab-df-convert\" onclick=\"convertToInteractive('df-5f82f600-b7b3-49ef-8a34-be7619d18e64')\"\n",
              "              title=\"Convert this dataframe to an interactive table.\"\n",
              "              style=\"display:none;\">\n",
              "        \n",
              "  <svg xmlns=\"http://www.w3.org/2000/svg\" height=\"24px\"viewBox=\"0 0 24 24\"\n",
              "       width=\"24px\">\n",
              "    <path d=\"M0 0h24v24H0V0z\" fill=\"none\"/>\n",
              "    <path d=\"M18.56 5.44l.94 2.06.94-2.06 2.06-.94-2.06-.94-.94-2.06-.94 2.06-2.06.94zm-11 1L8.5 8.5l.94-2.06 2.06-.94-2.06-.94L8.5 2.5l-.94 2.06-2.06.94zm10 10l.94 2.06.94-2.06 2.06-.94-2.06-.94-.94-2.06-.94 2.06-2.06.94z\"/><path d=\"M17.41 7.96l-1.37-1.37c-.4-.4-.92-.59-1.43-.59-.52 0-1.04.2-1.43.59L10.3 9.45l-7.72 7.72c-.78.78-.78 2.05 0 2.83L4 21.41c.39.39.9.59 1.41.59.51 0 1.02-.2 1.41-.59l7.78-7.78 2.81-2.81c.8-.78.8-2.07 0-2.86zM5.41 20L4 18.59l7.72-7.72 1.47 1.35L5.41 20z\"/>\n",
              "  </svg>\n",
              "      </button>\n",
              "      \n",
              "  <style>\n",
              "    .colab-df-container {\n",
              "      display:flex;\n",
              "      flex-wrap:wrap;\n",
              "      gap: 12px;\n",
              "    }\n",
              "\n",
              "    .colab-df-convert {\n",
              "      background-color: #E8F0FE;\n",
              "      border: none;\n",
              "      border-radius: 50%;\n",
              "      cursor: pointer;\n",
              "      display: none;\n",
              "      fill: #1967D2;\n",
              "      height: 32px;\n",
              "      padding: 0 0 0 0;\n",
              "      width: 32px;\n",
              "    }\n",
              "\n",
              "    .colab-df-convert:hover {\n",
              "      background-color: #E2EBFA;\n",
              "      box-shadow: 0px 1px 2px rgba(60, 64, 67, 0.3), 0px 1px 3px 1px rgba(60, 64, 67, 0.15);\n",
              "      fill: #174EA6;\n",
              "    }\n",
              "\n",
              "    [theme=dark] .colab-df-convert {\n",
              "      background-color: #3B4455;\n",
              "      fill: #D2E3FC;\n",
              "    }\n",
              "\n",
              "    [theme=dark] .colab-df-convert:hover {\n",
              "      background-color: #434B5C;\n",
              "      box-shadow: 0px 1px 3px 1px rgba(0, 0, 0, 0.15);\n",
              "      filter: drop-shadow(0px 1px 2px rgba(0, 0, 0, 0.3));\n",
              "      fill: #FFFFFF;\n",
              "    }\n",
              "  </style>\n",
              "\n",
              "      <script>\n",
              "        const buttonEl =\n",
              "          document.querySelector('#df-5f82f600-b7b3-49ef-8a34-be7619d18e64 button.colab-df-convert');\n",
              "        buttonEl.style.display =\n",
              "          google.colab.kernel.accessAllowed ? 'block' : 'none';\n",
              "\n",
              "        async function convertToInteractive(key) {\n",
              "          const element = document.querySelector('#df-5f82f600-b7b3-49ef-8a34-be7619d18e64');\n",
              "          const dataTable =\n",
              "            await google.colab.kernel.invokeFunction('convertToInteractive',\n",
              "                                                     [key], {});\n",
              "          if (!dataTable) return;\n",
              "\n",
              "          const docLinkHtml = 'Like what you see? Visit the ' +\n",
              "            '<a target=\"_blank\" href=https://colab.research.google.com/notebooks/data_table.ipynb>data table notebook</a>'\n",
              "            + ' to learn more about interactive tables.';\n",
              "          element.innerHTML = '';\n",
              "          dataTable['output_type'] = 'display_data';\n",
              "          await google.colab.output.renderOutput(dataTable, element);\n",
              "          const docLink = document.createElement('div');\n",
              "          docLink.innerHTML = docLinkHtml;\n",
              "          element.appendChild(docLink);\n",
              "        }\n",
              "      </script>\n",
              "    </div>\n",
              "  </div>\n",
              "  "
            ],
            "text/plain": [
              "                                venue  innings                 batting_team  \\\n",
              "0                Arun Jaitley Stadium        1              Kings XI Punjab   \n",
              "1                Arun Jaitley Stadium        2             Delhi Daredevils   \n",
              "2                    Wankhede Stadium        1          Sunrisers Hyderabad   \n",
              "3                    Wankhede Stadium        2               Mumbai Indians   \n",
              "4               M.Chinnaswamy Stadium        1  Royal Challengers Bangalore   \n",
              "..                                ...      ...                          ...   \n",
              "597             Eden Gardens, Kolkata        2         Lucknow Super Giants   \n",
              "598  Narendra Modi Stadium, Ahmedabad        1  Royal Challengers Bangalore   \n",
              "599  Narendra Modi Stadium, Ahmedabad        2             Rajasthan Royals   \n",
              "600  Narendra Modi Stadium, Ahmedabad        1             Rajasthan Royals   \n",
              "601  Narendra Modi Stadium, Ahmedabad        2               Gujarat Titans   \n",
              "\n",
              "                    bowling_team  \\\n",
              "0               Delhi Daredevils   \n",
              "1                Kings XI Punjab   \n",
              "2                 Mumbai Indians   \n",
              "3            Sunrisers Hyderabad   \n",
              "4            Chennai Super Kings   \n",
              "..                           ...   \n",
              "597  Royal Challengers Bangalore   \n",
              "598             Rajasthan Royals   \n",
              "599  Royal Challengers Bangalore   \n",
              "600               Gujarat Titans   \n",
              "601             Rajasthan Royals   \n",
              "\n",
              "                                               batsmen  \\\n",
              "0                 KK Nair,KL Rahul,AJ Finch,MA Agarwal   \n",
              "1         G Gambhir,RR Pant,GJ Maxwell,SS Iyer,PP Shaw   \n",
              "2    Shakib Al Hasan,KS Williamson,WP Saha,S Dhawan...   \n",
              "3    E Lewis,RG Sharma,Ishan Kishan,SA Yadav,KH Pandya   \n",
              "4                     Q de Kock,AB de Villiers,V Kohli   \n",
              "..                                                 ...   \n",
              "597                Q de Kock,KL Rahul,M Vohra,DJ Hooda   \n",
              "598                    RM Patidar,V Kohli,F du Plessis   \n",
              "599                   SV Samson,YBK Jaiswal,JC Buttler   \n",
              "600                   SV Samson,YBK Jaiswal,JC Buttler   \n",
              "601             Shubman Gill,MS Wade,HH Pandya,WP Saha   \n",
              "\n",
              "                                               bowlers  total_run  \n",
              "0                      TA Boult,LE Plunkett,Avesh Khan         51  \n",
              "1                            BB Sran,AJ Tye,AS Rajpoot         48  \n",
              "2                   JJ Bumrah,HH Pandya,MJ McClenaghan         51  \n",
              "3         Mohammad Nabi,Sandeep Sharma,Shakib Al Hasan         22  \n",
              "4                  Harbhajan Singh,SN Thakur,DL Chahar         52  \n",
              "..                                                 ...        ...  \n",
              "597          Mohammed Siraj,Shahbaz Ahmed,JR Hazlewood         62  \n",
              "598                         TA Boult,M Prasidh Krishna         46  \n",
              "599  Mohammed Siraj,Shahbaz Ahmed,GJ Maxwell,JR Haz...         67  \n",
              "600  LH Ferguson,Yash Dayal,Mohammed Shami,Rashid Khan         44  \n",
              "601               TA Boult,YS Chahal,M Prasidh Krishna         31  \n",
              "\n",
              "[602 rows x 7 columns]"
            ]
          },
          "execution_count": 24,
          "metadata": {},
          "output_type": "execute_result"
        }
      ],
      "source": [
        "#Checking the final data, after all initial preprocessing stage\n",
        "data"
      ]
    },
    {
      "cell_type": "markdown",
      "metadata": {
        "id": "DOlyKyaACT_8"
      },
      "source": [
        "Now the data is finally ready as per the requirements. However, there is still some cleaning to do. The IPL has changed over the past few years and we need to adjust our data as per the changes, as much as possible\n"
      ]
    },
    {
      "cell_type": "markdown",
      "metadata": {
        "id": "y0c31BshZx9V"
      },
      "source": [
        "##f) Stadium Names Cleaning\n",
        "Same stadiums have been stored in multiple names, hence we have to change those names to a common name for commonality"
      ]
    },
    {
      "cell_type": "code",
      "execution_count": null,
      "metadata": {
        "id": "5a0LFYMqRW6s"
      },
      "outputs": [],
      "source": [
        "def stadium_cleaning(x):\n",
        "  #We use replace function to change all same stadiums to a common name\n",
        "  x['venue'] = x['venue'].replace(['Punjab Cricket Association Stadium, Mohali','Punjab Cricket Association IS Bindra Stadium'],'Punjab Cricket Association Stadium')\n",
        "  x['venue'] = x['venue'].replace(['Feroz Shah Kotla','Arun Jaitley Stadium, Delhi','Arun Jaitley Stadium'],'Arun Jaitley Stadium')\n",
        "  x['venue'] = x['venue'].replace(['M.Chinnaswamy Stadium','M Chinnaswamy Stadium'],'M.Chinnaswamy Stadium')\n",
        "  x['venue'] = x['venue'].replace(['Eden Gardens','Eden Gardens, Kolkata'],'Eden Gardens')\n",
        "  x['venue'] = x['venue'].replace(['Maharashtra Cricket Association Stadium','Maharashtra Cricket Association Stadium, Pune'],'Maharashtra Cricket Association Stadium')\n",
        "  x['venue'] = x['venue'].replace(['Dr DY Patil Sports Academy','Dr DY Patil Sports Academy, Mumbai'],'Dr DY Patil Sports Academy')\n",
        "  x['venue'] = x['venue'].replace(['MA Chidambaram Stadium, Chepauk','MA Chidambaram Stadium, Chepauk, Chennai'],'MA Chidambaram Stadium')\n",
        "  x['venue'] = x['venue'].replace(['Sheikh Zayed Stadium','Zayed Cricket Stadium, Abu Dhabi'],'Zayed Cricket Stadium')\n",
        "  x['venue'] = x['venue'].replace(['Wankhede Stadium','Wankhede Stadium, Mumbai'],'Wankhede Stadium')\n",
        "  x['venue'] = x['venue'].replace(['Rajiv Gandhi International Stadium, Uppal','Rajiv Gandhi International Stadium'],'Rajiv Gandhi International Stadium')\n",
        "  x['venue'] = x['venue'].replace(['Narendra Modi Stadium, Ahmedabad','Sardar Patel Stadium, Motera'],'Narendra Modi Stadium')\n",
        "  x['venue'] = x['venue'].replace(['Brabourne Stadium, Mumbai'],'Brabourne Stadium')\n",
        "\n",
        "\n",
        "  return x\n",
        "\n",
        "x = stadium_cleaning(x)\n"
      ]
    },
    {
      "cell_type": "code",
      "execution_count": null,
      "metadata": {
        "colab": {
          "base_uri": "https://localhost:8080/"
        },
        "id": "Jr7e7ZnGjzF4",
        "outputId": "2c190651-82d0-4111-fe04-a7be9c614a7a"
      },
      "outputs": [
        {
          "data": {
            "text/plain": [
              "array(['Arun Jaitley Stadium', 'Wankhede Stadium',\n",
              "       'M.Chinnaswamy Stadium', 'Rajiv Gandhi International Stadium',\n",
              "       'Maharashtra Cricket Association Stadium',\n",
              "       'Sawai Mansingh Stadium', 'Eden Gardens', 'Holkar Cricket Stadium',\n",
              "       'MA Chidambaram Stadium', 'Punjab Cricket Association Stadium',\n",
              "       'Dr. Y.S. Rajasekhara Reddy ACA-VDCA Cricket Stadium',\n",
              "       'Zayed Cricket Stadium', 'Dubai International Cricket Stadium',\n",
              "       'Sharjah Cricket Stadium', 'Narendra Modi Stadium',\n",
              "       'Brabourne Stadium', 'Dr DY Patil Sports Academy'], dtype=object)"
            ]
          },
          "execution_count": 28,
          "metadata": {},
          "output_type": "execute_result"
        }
      ],
      "source": [
        "x['venue'].unique()"
      ]
    },
    {
      "cell_type": "markdown",
      "metadata": {
        "id": "sJgRNkzOhN_1"
      },
      "source": [
        "## g) Changing Batting/Bowling Team\n",
        "Since we have seen how team names have changed over the years, we will now implement the same process for teams as well"
      ]
    },
    {
      "cell_type": "code",
      "execution_count": null,
      "metadata": {
        "id": "yF5IJlU7R8sH"
      },
      "outputs": [],
      "source": [
        "def teams_cleaning(x):\n",
        "  x['batting_team'] = x['batting_team'].replace(['Pune Warriors','Rising Pune Supergiants','Rising Pune Supergiant'],'Rising Pune Supergiants')\n",
        "  x['bowling_team'] = x['bowling_team'].replace(['Pune Warriors','Rising Pune Supergiants','Rising Pune Supergiant'],'Rising Pune Supergiants')\n",
        "  x['batting_team'] = x['batting_team'].replace(['Gujarat Lions','Gujarat Titans'],'Gujarat Titans')\n",
        "  x['bowling_team'] = x['bowling_team'].replace(['Gujarat Lions','Gujarat Titans'],'Gujarat Titans')\n",
        "  x['batting_team'] = x['batting_team'].replace(['Delhi Daredevils','Delhi Capitals'],'Delhi Capitals')\n",
        "  x['bowling_team'] = x['bowling_team'].replace(['Delhi Daredevils','Delhi Capitals'],'Delhi Capitals')\n",
        "  x['batting_team'] = x['batting_team'].replace(['Deccan Chargers','Sunrisers Hyderabad'],'Sunrisers Hyderabad')\n",
        "  x['bowling_team'] = x['bowling_team'].replace(['Deccan Chargers','Sunrisers Hyderabad'],'Sunrisers Hyderabad')\n",
        "  x['batting_team'] = x['batting_team'].replace(['Kings XI Punjab','Punjab Kings'],'Punjab Kings')\n",
        "  x['bowling_team'] = x['bowling_team'].replace(['Kings XI Punjab','Punjab Kings'],'Punjab Kings')\n",
        "\n",
        "  return x\n",
        "\n",
        "x = teams_cleaning(x)"
      ]
    },
    {
      "cell_type": "markdown",
      "metadata": {
        "id": "nOY7n4Nak_Ja"
      },
      "source": [
        "## h) Seggregating present teams only\n",
        "Now, let us use only those entries from our data which have IPL 2023 edition teams."
      ]
    },
    {
      "cell_type": "code",
      "execution_count": null,
      "metadata": {
        "id": "nl8FCOiYScfE"
      },
      "outputs": [],
      "source": [
        "def present_teams_wise(x):\n",
        "  teams = ['Kolkata Knight Riders', 'Royal Challengers Bangalore',\n",
        "       'Chennai Super Kings', 'Punjab Kings', 'Rajasthan Royals',\n",
        "       'Delhi Capitals', 'Mumbai Indians', 'Sunrisers Hyderabad',\n",
        "       'Gujarat Titans', 'Lucknow Super Giants']\n",
        "  #We use isin() function to cull out those entries which are required\n",
        "  x = x[x['batting_team'].isin(teams)]\n",
        "  x = x[x['bowling_team'].isin(teams)]\n",
        "\n",
        "  return x\n",
        "\n",
        "x = present_teams_wise(x)"
      ]
    },
    {
      "cell_type": "markdown",
      "metadata": {
        "id": "CczRGtktLhDH"
      },
      "source": [
        "## i) Transforming Data Using HashLib\n",
        "We need to convert categorical nominal values in such a way that they reproduce the same results each time. For that, we use hashing function"
      ]
    },
    {
      "cell_type": "code",
      "execution_count": null,
      "metadata": {
        "id": "WU7q1lelI3BB"
      },
      "outputs": [],
      "source": [
        "def hashing(x):\n",
        "  import hashlib\n",
        "  for col in ['venue', 'batting_team', 'bowling_team', 'batsmen','bowlers']:\n",
        "    hashed_col = x[col].apply(lambda i: hash(i)) #Here, we use lambda to create a numeric hash value for each entry in all categorical values and replace the string value with it's numeric counterpart\n",
        "    x[col] = hashed_col\n",
        "  return x\n",
        "\n",
        "x = hashing(x)"
      ]
    },
    {
      "cell_type": "markdown",
      "metadata": {
        "id": "ZTjfuTil4qfQ"
      },
      "source": [
        "#4) Train-Test Split"
      ]
    },
    {
      "cell_type": "markdown",
      "metadata": {
        "id": "AB3meqgUnz3P"
      },
      "source": [
        "## a) Breaking the data between input and output variable\n",
        "We need to do this to set up the base for supervised learning trainning on various models"
      ]
    },
    {
      "cell_type": "code",
      "execution_count": null,
      "metadata": {
        "id": "4ldlTMElnzeJ"
      },
      "outputs": [],
      "source": [
        "X = x.drop('total_run',axis = 1)\n",
        "y = x['total_run']\n"
      ]
    },
    {
      "cell_type": "code",
      "execution_count": null,
      "metadata": {
        "colab": {
          "base_uri": "https://localhost:8080/"
        },
        "id": "x2OWCUJBKP2f",
        "outputId": "bb27fba2-5e66-4b59-8402-433b2a04d8a9"
      },
      "outputs": [
        {
          "data": {
            "text/plain": [
              "Index(['venue', 'innings', 'batting_team', 'bowling_team', 'batsmen',\n",
              "       'bowlers'],\n",
              "      dtype='object')"
            ]
          },
          "execution_count": 67,
          "metadata": {},
          "output_type": "execute_result"
        }
      ],
      "source": [
        "X.columns"
      ]
    },
    {
      "cell_type": "code",
      "execution_count": null,
      "metadata": {
        "id": "iFKlnE0NmJcl"
      },
      "outputs": [],
      "source": [
        "input = pd.read_csv('/content/input_test_file.csv')"
      ]
    },
    {
      "cell_type": "code",
      "execution_count": null,
      "metadata": {
        "colab": {
          "base_uri": "https://localhost:8080/"
        },
        "id": "2-Umgq1MmQTL",
        "outputId": "7b742e83-afed-4944-9db3-954b60442cb4"
      },
      "outputs": [
        {
          "data": {
            "text/plain": [
              "Index(['venue', 'innings', 'batting_team', 'bowling_team', 'batsmen',\n",
              "       'bowlers'],\n",
              "      dtype='object')"
            ]
          },
          "execution_count": 68,
          "metadata": {},
          "output_type": "execute_result"
        }
      ],
      "source": [
        "input.columns"
      ]
    },
    {
      "cell_type": "code",
      "execution_count": null,
      "metadata": {
        "colab": {
          "base_uri": "https://localhost:8080/"
        },
        "id": "XrYFj2DRepfA",
        "outputId": "91b1a8b5-fc2f-4622-d055-c58694c1a9ee"
      },
      "outputs": [
        {
          "data": {
            "text/plain": [
              "0      51\n",
              "1      48\n",
              "2      51\n",
              "3      22\n",
              "4      52\n",
              "       ..\n",
              "597    62\n",
              "598    46\n",
              "599    67\n",
              "600    44\n",
              "601    31\n",
              "Name: total_run, Length: 602, dtype: int64"
            ]
          },
          "execution_count": 34,
          "metadata": {},
          "output_type": "execute_result"
        }
      ],
      "source": [
        "y"
      ]
    },
    {
      "cell_type": "markdown",
      "metadata": {
        "id": "4SSy1siOGSk-"
      },
      "source": [
        "## b) Using this output to create train test sets"
      ]
    },
    {
      "cell_type": "code",
      "execution_count": null,
      "metadata": {
        "id": "w-epI0BtTRd3"
      },
      "outputs": [],
      "source": [
        "from sklearn.model_selection import train_test_split\n",
        "x_train, x_test, y_train, y_test = train_test_split(X,y, test_size = 0.2, random_state = 1, shuffle = True)\n"
      ]
    },
    {
      "cell_type": "markdown",
      "metadata": {
        "id": "SGVSVv7uG6-e"
      },
      "source": [
        "# 5) Training Models\n",
        "Using multiple models to train our data and checking their performance using the metric 'mean_absolute_error'"
      ]
    },
    {
      "cell_type": "code",
      "execution_count": null,
      "metadata": {
        "id": "D3hYllgV7j93"
      },
      "outputs": [],
      "source": [
        "#Creating dictionary to store model scores \n",
        "models = dict()\n",
        "m = dict()"
      ]
    },
    {
      "cell_type": "code",
      "execution_count": null,
      "metadata": {
        "colab": {
          "base_uri": "https://localhost:8080/"
        },
        "id": "8MgjCuEBiEFj",
        "outputId": "e7e295f2-f90e-4aad-8992-2d9f78859584"
      },
      "outputs": [
        {
          "name": "stdout",
          "output_type": "stream",
          "text": [
            "MAE on train is: 9.892778576412669\n",
            "MAE on test is: 9.885337536301453\n"
          ]
        }
      ],
      "source": [
        "from sklearn.linear_model import Ridge\n",
        "from sklearn.metrics import mean_absolute_error\n",
        "\n",
        "r = Ridge(solver = 'sag')\n",
        "r.fit(x_train,y_train)\n",
        "y_pred_r = r.predict(x_test)\n",
        "y_pred_r_train = r.predict(x_train)\n",
        "\n",
        "mae_r_train = mean_absolute_error(y_train,y_pred_r_train)\n",
        "mae_r_test = mean_absolute_error(y_test,y_pred_r)\n",
        "\n",
        "m['Ridge'] = mae_r_train\n",
        "models['Ridge'] = mae_r_test\n",
        "print('MAE on train is:',mae_r_train)\n",
        "print('MAE on test is:',mae_r_test)\n"
      ]
    },
    {
      "cell_type": "code",
      "execution_count": null,
      "metadata": {
        "colab": {
          "base_uri": "https://localhost:8080/"
        },
        "id": "9Q-hsGrLiQVh",
        "outputId": "0fe50f1a-4ae8-4b25-b541-aa62f42366dd"
      },
      "outputs": [
        {
          "name": "stdout",
          "output_type": "stream",
          "text": [
            "MAE on train is: 9.883107018437222\n",
            "MAE on test is: 9.865668328324844\n"
          ]
        },
        {
          "name": "stderr",
          "output_type": "stream",
          "text": [
            "/usr/local/lib/python3.10/dist-packages/sklearn/linear_model/_coordinate_descent.py:631: ConvergenceWarning: Objective did not converge. You might want to increase the number of iterations, check the scale of the features or consider increasing regularisation. Duality gap: 3.989e+04, tolerance: 8.113e+00\n",
            "  model = cd_fast.enet_coordinate_descent(\n"
          ]
        }
      ],
      "source": [
        "from sklearn.linear_model import Lasso\n",
        "from sklearn.metrics import mean_absolute_error\n",
        "\n",
        "l = Lasso()\n",
        "l.fit(x_train,y_train)\n",
        "y_pred_l = l.predict(x_test)\n",
        "y_pred_l_train = l.predict(x_train)\n",
        "\n",
        "mae_l_train = mean_absolute_error(y_train,y_pred_l_train)\n",
        "mae_l_test = mean_absolute_error(y_test,y_pred_l)\n",
        "\n",
        "m['Lasso'] = mae_l_train\n",
        "models['Lasso'] = mae_l_test\n",
        "print('MAE on train is:',mae_l_train)\n",
        "print('MAE on test is:',mae_l_test)\n"
      ]
    },
    {
      "cell_type": "code",
      "execution_count": null,
      "metadata": {
        "colab": {
          "base_uri": "https://localhost:8080/"
        },
        "id": "4wsnXROfTxSR",
        "outputId": "6a4e1cbb-63a8-49dc-b19a-3423b2833b1c"
      },
      "outputs": [
        {
          "name": "stdout",
          "output_type": "stream",
          "text": [
            "MAE on train is: 9.892778234267634\n",
            "MAE on test is: 9.885355100820522\n"
          ]
        }
      ],
      "source": [
        "from sklearn.linear_model import LinearRegression\n",
        "from sklearn.metrics import mean_absolute_error\n",
        "\n",
        "lr = LinearRegression(fit_intercept = True)\n",
        "lr.fit(x_train,y_train)\n",
        "y_pred_lr = lr.predict(x_test)\n",
        "y_pred_lr_train = lr.predict(x_train)\n",
        "\n",
        "mae_lr_train = mean_absolute_error(y_train,y_pred_lr_train)\n",
        "mae_lr_test = mean_absolute_error(y_test,y_pred_lr)\n",
        "\n",
        "m['LinearRegression'] = mae_lr_train\n",
        "models['LinearRegression'] = mae_lr_test\n",
        "print('MAE on train is:',mae_lr_train)\n",
        "print('MAE on test is:',mae_lr_test)\n",
        "\n"
      ]
    },
    {
      "cell_type": "code",
      "execution_count": null,
      "metadata": {
        "colab": {
          "base_uri": "https://localhost:8080/"
        },
        "id": "tmT-9rSzSq1L",
        "outputId": "c9f36ec5-a8ba-4fe7-ebe0-fd206d8b459c"
      },
      "outputs": [
        {
          "name": "stdout",
          "output_type": "stream",
          "text": [
            "MAE on train is: 4.002674362709321e+46\n",
            "MAE on test is: 3.8314723385703554e+46\n"
          ]
        }
      ],
      "source": [
        "from sklearn.linear_model import SGDRegressor\n",
        "from sklearn.metrics import mean_absolute_error\n",
        "\n",
        "sgd = SGDRegressor(random_state = 1)\n",
        "sgd.fit(x_train,y_train)\n",
        "y_pred_sgd = sgd.predict(x_test)\n",
        "y_pred_sgd_train = sgd.predict(x_train)\n",
        "\n",
        "mae_sgd_train = mean_absolute_error(y_train,y_pred_sgd_train)\n",
        "mae_sgd_test = mean_absolute_error(y_test,y_pred_sgd)\n",
        "\n",
        "#models['SGDRegressor'] = mae_sgd_test\n",
        "print('MAE on train is:',mae_sgd_train)\n",
        "print('MAE on test is:',mae_sgd_test)\n"
      ]
    },
    {
      "cell_type": "code",
      "execution_count": null,
      "metadata": {
        "colab": {
          "base_uri": "https://localhost:8080/"
        },
        "id": "nUNbnIaUTK3O",
        "outputId": "61edc7f3-bccc-4ae4-9675-3172241b15dc"
      },
      "outputs": [
        {
          "name": "stdout",
          "output_type": "stream",
          "text": [
            "Convergence after  2  iterations\n",
            "MAE on train is: 9.893718554499674\n",
            "MAE on test is: 9.910253657573927\n"
          ]
        }
      ],
      "source": [
        "from sklearn.linear_model import BayesianRidge\n",
        "from sklearn.metrics import mean_absolute_error\n",
        "\n",
        "byr = BayesianRidge(fit_intercept = True, verbose = 3)\n",
        "byr.fit(x_train,y_train)\n",
        "y_pred_byr = byr.predict(x_test)\n",
        "y_pred_byr_train = byr.predict(x_train)\n",
        "\n",
        "mae_byr_train = mean_absolute_error(y_train,y_pred_byr_train)\n",
        "mae_byr_test = mean_absolute_error(y_test,y_pred_byr)\n",
        "\n",
        "m['BayesianRidge'] = mae_byr_train\n",
        "models['BayesianRidge'] = mae_byr_test\n",
        "print('MAE on train is:',mae_byr_train)\n",
        "print('MAE on test is:',mae_byr_test)\n"
      ]
    },
    {
      "cell_type": "code",
      "execution_count": null,
      "metadata": {
        "colab": {
          "base_uri": "https://localhost:8080/"
        },
        "id": "onWwVJWWU2cr",
        "outputId": "1f15ae17-c4ca-43e7-f3d0-1e1ac16f45a0"
      },
      "outputs": [
        {
          "name": "stdout",
          "output_type": "stream",
          "text": [
            "MAE on train is: 37.245572510783525\n",
            "MAE on test is: 37.989009711166375\n"
          ]
        },
        {
          "name": "stderr",
          "output_type": "stream",
          "text": [
            "/usr/local/lib/python3.10/dist-packages/sklearn/linear_model/_ridge.py:255: UserWarning: Singular matrix in solving dual problem. Using least-squares solution instead.\n",
            "  warnings.warn(\n"
          ]
        }
      ],
      "source": [
        "from sklearn.kernel_ridge import KernelRidge\n",
        "from sklearn.metrics import mean_absolute_error\n",
        "\n",
        "kr = KernelRidge()\n",
        "kr.fit(x_train,y_train)\n",
        "y_pred_kr = kr.predict(x_test)\n",
        "y_pred_kr_train = kr.predict(x_train)\n",
        "\n",
        "mae_kr_train = mean_absolute_error(y_train,y_pred_kr_train)\n",
        "mae_kr_test = mean_absolute_error(y_test,y_pred_kr)\n",
        "\n",
        "#models['KernelRidge'] = mae_kr_test\n",
        "print('MAE on train is:',mae_kr_train)\n",
        "print('MAE on test is:',mae_kr_test)"
      ]
    },
    {
      "cell_type": "code",
      "execution_count": null,
      "metadata": {
        "colab": {
          "base_uri": "https://localhost:8080/"
        },
        "id": "Z6E-aZ_MR2qC",
        "outputId": "9f2e4f4c-30b3-499f-8cdd-c2a651e79ae1"
      },
      "outputs": [
        {
          "name": "stdout",
          "output_type": "stream",
          "text": [
            "MAE on train is: 5.051521827558592\n",
            "MAE on test is: 10.398374203698957\n"
          ]
        }
      ],
      "source": [
        "from sklearn.ensemble import HistGradientBoostingRegressor\n",
        "from sklearn.metrics import mean_absolute_error\n",
        "\n",
        "hgb = HistGradientBoostingRegressor(random_state = 1)\n",
        "hgb.fit(x_train,y_train)\n",
        "y_pred_hgb = hgb.predict(x_test)\n",
        "y_pred_hgb_train = hgb.predict(x_train)\n",
        "\n",
        "mae_hgb_train = mean_absolute_error(y_train,y_pred_hgb_train)\n",
        "mae_hgb_test = mean_absolute_error(y_test,y_pred_hgb)\n",
        "\n",
        "m['HistGradientBoostingRegressore'] = mae_hgb_train\n",
        "models['HistGradientBoostingRegressore'] = mae_hgb_test\n",
        "print('MAE on train is:',mae_hgb_train)\n",
        "print('MAE on test is:',mae_hgb_test)"
      ]
    },
    {
      "cell_type": "code",
      "execution_count": null,
      "metadata": {
        "colab": {
          "base_uri": "https://localhost:8080/"
        },
        "id": "mejayM2iVvKd",
        "outputId": "96de88c4-4d61-484a-e1ce-8917f0d0829e"
      },
      "outputs": [
        {
          "name": "stdout",
          "output_type": "stream",
          "text": [
            "MAE on train is: 3.622219157462051e+16\n",
            "MAE on test is: 5.408934648472507e+16\n"
          ]
        },
        {
          "name": "stderr",
          "output_type": "stream",
          "text": [
            "/usr/local/lib/python3.10/dist-packages/sklearn/neural_network/_multilayer_perceptron.py:686: ConvergenceWarning: Stochastic Optimizer: Maximum iterations (200) reached and the optimization hasn't converged yet.\n",
            "  warnings.warn(\n"
          ]
        }
      ],
      "source": [
        "from sklearn.neural_network import MLPRegressor\n",
        "from sklearn.metrics import mean_absolute_error\n",
        "\n",
        "mlp = MLPRegressor(random_state = 1)\n",
        "mlp.fit(x_train,y_train)\n",
        "y_pred_mlp = mlp.predict(x_test)\n",
        "y_pred_mlp_train = mlp.predict(x_train)\n",
        "\n",
        "mae_mlp_train = mean_absolute_error(y_train,y_pred_mlp_train)\n",
        "mae_mlp_test = mean_absolute_error(y_test,y_pred_mlp)\n",
        "\n",
        "#models['MLPRegressor'] = mae_mlp_test\n",
        "print('MAE on train is:',mae_mlp_train)\n",
        "print('MAE on test is:',mae_mlp_test)"
      ]
    },
    {
      "cell_type": "code",
      "execution_count": null,
      "metadata": {
        "colab": {
          "base_uri": "https://localhost:8080/"
        },
        "id": "jwHudtlqRBQm",
        "outputId": "fb0b4851-4328-4179-af62-943f26f15c6e"
      },
      "outputs": [
        {
          "name": "stdout",
          "output_type": "stream",
          "text": [
            "MAE on train is: 0.0026611226611226637\n",
            "MAE on test is: 9.285702479338843\n"
          ]
        }
      ],
      "source": [
        "from sklearn.ensemble import ExtraTreesRegressor\n",
        "from sklearn.metrics import mean_absolute_error\n",
        "\n",
        "et = ExtraTreesRegressor(random_state = 1)\n",
        "et.fit(x_train,y_train)\n",
        "y_pred_et = et.predict(x_test)\n",
        "y_pred_et_train = et.predict(x_train)\n",
        "\n",
        "mae_et_train = mean_absolute_error(y_train,y_pred_et_train)\n",
        "mae_et_test = mean_absolute_error(y_test,y_pred_et)\n",
        "\n",
        "m['ExtraTreesRegressor'] = mae_et_train\n",
        "models['ExtraTreesRegressor'] = mae_et_test\n",
        "print('MAE on train is:',mae_et_train)\n",
        "print('MAE on test is:',mae_et_test)"
      ]
    },
    {
      "cell_type": "code",
      "execution_count": null,
      "metadata": {
        "colab": {
          "base_uri": "https://localhost:8080/"
        },
        "id": "BOYO8MrwQS44",
        "outputId": "682c4cc5-31b7-41ed-b335-0b69b59a6c6e"
      },
      "outputs": [
        {
          "name": "stdout",
          "output_type": "stream",
          "text": [
            "MAE on train is: 3.530977130977131\n",
            "MAE on test is: 9.608264462809917\n"
          ]
        },
        {
          "name": "stderr",
          "output_type": "stream",
          "text": [
            "[Parallel(n_jobs=1)]: Using backend SequentialBackend with 1 concurrent workers.\n",
            "[Parallel(n_jobs=1)]: Done   1 out of   1 | elapsed:    0.0s finished\n",
            "[Parallel(n_jobs=1)]: Using backend SequentialBackend with 1 concurrent workers.\n",
            "[Parallel(n_jobs=1)]: Done   1 out of   1 | elapsed:    0.0s finished\n",
            "[Parallel(n_jobs=1)]: Using backend SequentialBackend with 1 concurrent workers.\n",
            "[Parallel(n_jobs=1)]: Done   1 out of   1 | elapsed:    0.0s finished\n"
          ]
        }
      ],
      "source": [
        "from sklearn.ensemble import BaggingRegressor\n",
        "from sklearn.metrics import mean_absolute_error\n",
        "\n",
        "br = BaggingRegressor(random_state = 1,verbose = 1)\n",
        "br.fit(x_train,y_train)\n",
        "y_pred_br = br.predict(x_test)\n",
        "y_pred_br_train = br.predict(x_train)\n",
        "\n",
        "mae_br_train = mean_absolute_error(y_train,y_pred_br_train)\n",
        "mae_br_test = mean_absolute_error(y_test,y_pred_br)\n",
        "\n",
        "m['BaggingRegressor'] = mae_br_train\n",
        "models['BaggingRegressor'] = mae_br_test\n",
        "print('MAE on train is:',mae_br_train)\n",
        "print('MAE on test is:',mae_br_test)"
      ]
    },
    {
      "cell_type": "code",
      "execution_count": null,
      "metadata": {
        "colab": {
          "base_uri": "https://localhost:8080/"
        },
        "id": "NKoTzd8VPO1p",
        "outputId": "c9fd80cb-06c2-4c98-f6ee-a5fde2d7ffe5"
      },
      "outputs": [
        {
          "name": "stdout",
          "output_type": "stream",
          "text": [
            "MAE on train is: 3.5666632016632014\n",
            "MAE on test is: 8.769090909090911\n"
          ]
        }
      ],
      "source": [
        "from sklearn.ensemble import RandomForestRegressor\n",
        "from sklearn.metrics import mean_absolute_error\n",
        "\n",
        "rfr = RandomForestRegressor(random_state = 1,n_estimators = 100,criterion = 'absolute_error')\n",
        "rfr.fit(x_train,y_train)\n",
        "y_pred_rfr = rfr.predict(x_test)\n",
        "y_pred_rfr_train = rfr.predict(x_train)\n",
        "\n",
        "mae_rfr_train = mean_absolute_error(y_train,y_pred_rfr_train)\n",
        "mae_rfr_test = mean_absolute_error(y_test,y_pred_rfr)\n",
        "\n",
        "m['RandomForestRegressor'] = mae_rfr_train\n",
        "models['RandomForestRegressor'] = mae_rfr_test\n",
        "print('MAE on train is:',mae_rfr_train)\n",
        "print('MAE on test is:',mae_rfr_test)"
      ]
    },
    {
      "cell_type": "code",
      "execution_count": null,
      "metadata": {
        "colab": {
          "base_uri": "https://localhost:8080/"
        },
        "id": "yoebOulZORgE",
        "outputId": "294ea9b5-759f-4318-be89-29a640448b15"
      },
      "outputs": [
        {
          "name": "stdout",
          "output_type": "stream",
          "text": [
            "MAE on train is: 8.802057097744495\n",
            "MAE on test is: 8.42507474256028\n"
          ]
        }
      ],
      "source": [
        "from sklearn.ensemble import AdaBoostRegressor\n",
        "from sklearn.metrics import mean_absolute_error\n",
        "\n",
        "ab = AdaBoostRegressor(random_state = 1,loss = 'linear',n_estimators = 400, learning_rate = 0.04)\n",
        "ab.fit(x_train,y_train)\n",
        "y_pred_ab = ab.predict(x_test)\n",
        "y_pred_ab_train = ab.predict(x_train)\n",
        "\n",
        "mae_abr_train = mean_absolute_error(y_train,y_pred_ab_train)\n",
        "mae_abr_test = mean_absolute_error(y_test,y_pred_ab)\n",
        "\n",
        "m['AdaBoostRegressor'] = mae_abr_train\n",
        "models['AdaBoostRegressor'] = mae_abr_test\n",
        "print('MAE on train is:',mae_abr_train)\n",
        "print('MAE on test is:',mae_abr_test)"
      ]
    },
    {
      "cell_type": "code",
      "execution_count": null,
      "metadata": {
        "colab": {
          "base_uri": "https://localhost:8080/"
        },
        "id": "XzrWkvNDIxn1",
        "outputId": "4742ae14-1092-45ac-d17d-5c60cca9f6bb"
      },
      "outputs": [
        {
          "name": "stdout",
          "output_type": "stream",
          "text": [
            "MAE on train is: 7.242375014295799\n",
            "MAE on test is: 8.728156297104244\n"
          ]
        }
      ],
      "source": [
        "\n",
        "from sklearn.ensemble import GradientBoostingRegressor\n",
        "from sklearn.metrics import mean_absolute_error\n",
        "\n",
        "gb = GradientBoostingRegressor(random_state = 1,n_estimators = 400, max_depth = 3,loss = 'absolute_error',learning_rate = 0.04)\n",
        "gb.fit(x_train,y_train)\n",
        "y_pred_gb = gb.predict(x_test)\n",
        "y_pred_gb_train = gb.predict(x_train)\n",
        "\n",
        "mae_gbr_train = mean_absolute_error(y_train,y_pred_gb_train)\n",
        "mae_gbr_test = mean_absolute_error(y_test,y_pred_gb)\n",
        "\n",
        "m['GradientBoostingRegressor'] = mae_gbr_train\n",
        "models['GradientBoostingRegressor'] = mae_gbr_test\n",
        "print('MAE on train is:',mae_gbr_train)\n",
        "print('MAE on test is:',mae_gbr_test)\n",
        "\n"
      ]
    },
    {
      "cell_type": "code",
      "execution_count": null,
      "metadata": {
        "colab": {
          "base_uri": "https://localhost:8080/"
        },
        "id": "JEEq5vvrUK8l",
        "outputId": "68549f90-011d-4b33-d894-4002db958f61"
      },
      "outputs": [
        {
          "name": "stdout",
          "output_type": "stream",
          "text": [
            "MAE on train is: 0.3882173292354338\n",
            "MAE on test is: 9.966916516792676\n"
          ]
        }
      ],
      "source": [
        "from xgboost.sklearn import XGBRegressor\n",
        "from sklearn.metrics import mean_absolute_error\n",
        "\n",
        "xgb = XGBRegressor(random_state = 1)\n",
        "xgb.fit(x_train,y_train)\n",
        "y_pred_xgb = xgb.predict(x_test)\n",
        "y_pred_xgb_train = xgb.predict(x_train)\n",
        "\n",
        "mae_xgb_train = mean_absolute_error(y_train,y_pred_xgb_train)\n",
        "mae_xgb_test = mean_absolute_error(y_test,y_pred_xgb)\n",
        "\n",
        "m['XGBRegressor'] = mae_xgb_train\n",
        "models['XGBRegressor'] = mae_xgb_test\n",
        "print('MAE on train is:',mae_xgb_train)\n",
        "print('MAE on test is:',mae_xgb_test)\n"
      ]
    },
    {
      "cell_type": "code",
      "execution_count": null,
      "metadata": {
        "colab": {
          "base_uri": "https://localhost:8080/"
        },
        "id": "wJBuszkJUhh_",
        "outputId": "d6235021-5928-45f1-e30c-ebb66b73b816"
      },
      "outputs": [
        {
          "name": "stdout",
          "output_type": "stream",
          "text": [
            "MAE on train is: 0.3882173292354338\n",
            "MAE on test is: 9.966916516792676\n"
          ]
        }
      ],
      "source": [
        "from lightgbm import LGBMRegressor\n",
        "from sklearn.metrics import mean_absolute_error\n",
        "\n",
        "lgb = XGBRegressor(random_state = 1)\n",
        "lgb.fit(x_train,y_train)\n",
        "y_pred_lgb = lgb.predict(x_test)\n",
        "y_pred_lgb_train = lgb.predict(x_train)\n",
        "\n",
        "mae_lgb_train = mean_absolute_error(y_train,y_pred_lgb_train)\n",
        "mae_lgb_test = mean_absolute_error(y_test,y_pred_lgb)\n",
        "\n",
        "m['LGBMRegressor'] = mae_lgb_train\n",
        "models['LGBMRegressor'] = mae_lgb_test\n",
        "print('MAE on train is:',mae_lgb_train)\n",
        "print('MAE on test is:',mae_lgb_test)\n"
      ]
    },
    {
      "cell_type": "markdown",
      "metadata": {
        "id": "k1xi7X9kddP7"
      },
      "source": [
        "## a) Trying combinations of models"
      ]
    },
    {
      "cell_type": "code",
      "execution_count": null,
      "metadata": {
        "colab": {
          "base_uri": "https://localhost:8080/"
        },
        "id": "JFLSYPbkdhs1",
        "outputId": "9ccaa41b-5859-46f1-ad8b-a34123f2b457"
      },
      "outputs": [
        {
          "name": "stdout",
          "output_type": "stream",
          "text": [
            "MAE on train is: 7.989958576009354\n",
            "MAE on test is: 8.536364670121943\n"
          ]
        }
      ],
      "source": [
        "from sklearn.ensemble import VotingRegressor\n",
        "from sklearn.metrics import mean_absolute_error\n",
        "\n",
        "vr = VotingRegressor([('gb',gb),('ab',ab)])\n",
        "vr.fit(x_train,y_train)\n",
        "y_pred_vr = vr.predict(x_test)\n",
        "y_pred_vr_train = vr.predict(x_train)\n",
        "\n",
        "mae_vr_train = mean_absolute_error(y_train,y_pred_vr_train)\n",
        "mae_vr_test = mean_absolute_error(y_test,y_pred_vr)\n",
        "\n",
        "m['VotingRegressor'] = mae_vr_train\n",
        "models['VotingRegressor'] = mae_vr_test\n",
        "print('MAE on train is:',mae_vr_train)\n",
        "print('MAE on test is:',mae_vr_test)"
      ]
    },
    {
      "cell_type": "code",
      "execution_count": null,
      "metadata": {
        "colab": {
          "base_uri": "https://localhost:8080/"
        },
        "id": "lt2oLwcfdhqV",
        "outputId": "ed4645ad-767e-431b-c980-a4d7a5455796"
      },
      "outputs": [
        {
          "name": "stdout",
          "output_type": "stream",
          "text": [
            "MAE on train is: 5.604497195049007\n",
            "MAE on test is: 8.579578436102235\n"
          ]
        }
      ],
      "source": [
        "from sklearn.ensemble import StackingRegressor\n",
        "from sklearn.ensemble import GradientBoostingRegressor\n",
        "from sklearn.ensemble import AdaBoostRegressor\n",
        "from sklearn.ensemble import RandomForestRegressor\n",
        "from sklearn.linear_model import BayesianRidge\n",
        "from sklearn.metrics import mean_absolute_error\n",
        "\n",
        "ab = AdaBoostRegressor(random_state = 1,loss = 'linear',n_estimators = 400, learning_rate = 0.04)\n",
        "gb = GradientBoostingRegressor(random_state = 1,n_estimators = 400, max_depth = 3,loss = 'absolute_error',learning_rate = 0.04)\n",
        "rfr = RandomForestRegressor(random_state = 1,n_estimators = 100,criterion = 'absolute_error')\n",
        "\n",
        "byr = BayesianRidge()\n",
        "\n",
        "sr = StackingRegressor([('gb',gb),('ab',ab),('rfr',rfr)],final_estimator = byr)\n",
        "sr.fit(x_train,y_train)\n",
        "y_pred_sr = sr.predict(x_test)\n",
        "y_pred_sr_train = sr.predict(x_train)\n",
        "\n",
        "mae_sr_train = mean_absolute_error(y_train,y_pred_sr_train)\n",
        "mae_sr_test = mean_absolute_error(y_test,y_pred_sr)\n",
        "\n",
        "m['StackingRegressor'] = mae_sr_train\n",
        "models['StackingRegressor'] = mae_sr_test\n",
        "print('MAE on train is:',mae_sr_train)\n",
        "print('MAE on test is:',mae_sr_test)"
      ]
    },
    {
      "cell_type": "markdown",
      "metadata": {
        "id": "UBQjkKqg9OGy"
      },
      "source": [
        "## b) Best Model Selection"
      ]
    },
    {
      "cell_type": "code",
      "execution_count": null,
      "metadata": {
        "colab": {
          "base_uri": "https://localhost:8080/",
          "height": 35
        },
        "id": "X15dcH6Y_DUI",
        "outputId": "af02742f-9da4-4926-ab4d-22a4b6aa49aa"
      },
      "outputs": [
        {
          "data": {
            "application/vnd.google.colaboratory.intrinsic+json": {
              "type": "string"
            },
            "text/plain": [
              "'LinearRegression'"
            ]
          },
          "execution_count": 54,
          "metadata": {},
          "output_type": "execute_result"
        }
      ],
      "source": [
        "diff = dict()\n",
        "for i in m.keys():\n",
        "  diff[i] = abs(m[i]-models[i])\n",
        "min(diff, key=diff.get)"
      ]
    },
    {
      "cell_type": "markdown",
      "metadata": {
        "id": "csQo8sFeqxtx"
      },
      "source": [
        "This shows that the difference between trainning and test error is the lowest. Now let us look at the test error"
      ]
    },
    {
      "cell_type": "code",
      "execution_count": null,
      "metadata": {
        "colab": {
          "base_uri": "https://localhost:8080/"
        },
        "id": "sslT9V1dq-kx",
        "outputId": "635ba7b7-a542-44e5-a9b3-a1b86a117d40"
      },
      "outputs": [
        {
          "data": {
            "text/plain": [
              "8.536364670121943"
            ]
          },
          "execution_count": 55,
          "metadata": {},
          "output_type": "execute_result"
        }
      ],
      "source": [
        "models['VotingRegressor']"
      ]
    },
    {
      "cell_type": "markdown",
      "metadata": {
        "id": "P-mnQjHirMuK"
      },
      "source": [
        "If we look at Stacking Regressor, it has a similar value."
      ]
    },
    {
      "cell_type": "code",
      "execution_count": null,
      "metadata": {
        "colab": {
          "base_uri": "https://localhost:8080/"
        },
        "id": "gP5hF-FrrMUA",
        "outputId": "f1d1add1-1a3d-48df-d399-61cbf81064b1"
      },
      "outputs": [
        {
          "data": {
            "text/plain": [
              "8.579578436102235"
            ]
          },
          "execution_count": 56,
          "metadata": {},
          "output_type": "execute_result"
        }
      ],
      "source": [
        "models['StackingRegressor']"
      ]
    },
    {
      "cell_type": "markdown",
      "metadata": {
        "id": "YHsB9-EMpt-D"
      },
      "source": [
        "### i) Lowest Trainning Error"
      ]
    },
    {
      "cell_type": "code",
      "execution_count": null,
      "metadata": {
        "colab": {
          "base_uri": "https://localhost:8080/",
          "height": 35
        },
        "id": "cc2SIiaV6Exk",
        "outputId": "6da598e8-1997-4d90-a229-42b51d4f056e"
      },
      "outputs": [
        {
          "data": {
            "application/vnd.google.colaboratory.intrinsic+json": {
              "type": "string"
            },
            "text/plain": [
              "'ExtraTreesRegressor'"
            ]
          },
          "execution_count": 57,
          "metadata": {},
          "output_type": "execute_result"
        }
      ],
      "source": [
        "min(m, key=m.get)"
      ]
    },
    {
      "cell_type": "markdown",
      "metadata": {
        "id": "OKfLsTvVpx1A"
      },
      "source": [
        "So, trainning error for ExtraTreesRegressor is the lowest. Let us see the difference between the training and test error"
      ]
    },
    {
      "cell_type": "code",
      "execution_count": null,
      "metadata": {
        "colab": {
          "base_uri": "https://localhost:8080/"
        },
        "id": "hdMzxE2jqJ2i",
        "outputId": "6206a551-48ae-40ed-89ca-13ffa913cd81"
      },
      "outputs": [
        {
          "data": {
            "text/plain": [
              "0.0026611226611226637"
            ]
          },
          "execution_count": 58,
          "metadata": {},
          "output_type": "execute_result"
        }
      ],
      "source": [
        "m['ExtraTreesRegressor']"
      ]
    },
    {
      "cell_type": "code",
      "execution_count": null,
      "metadata": {
        "colab": {
          "base_uri": "https://localhost:8080/"
        },
        "id": "D8BZDlqEqESp",
        "outputId": "3c057e48-8c5d-430f-d5bc-fd780307dca6"
      },
      "outputs": [
        {
          "data": {
            "text/plain": [
              "9.285702479338843"
            ]
          },
          "execution_count": 59,
          "metadata": {},
          "output_type": "execute_result"
        }
      ],
      "source": [
        "models['ExtraTreesRegressor']"
      ]
    },
    {
      "cell_type": "markdown",
      "metadata": {
        "id": "fACnWUXtqPpp"
      },
      "source": [
        "As we can see, the difference is quite high, as shown below."
      ]
    },
    {
      "cell_type": "code",
      "execution_count": null,
      "metadata": {
        "colab": {
          "base_uri": "https://localhost:8080/"
        },
        "id": "3ITEkW2-pxIm",
        "outputId": "7f672d98-477e-4e3f-a6ca-ce16ea51331a"
      },
      "outputs": [
        {
          "data": {
            "text/plain": [
              "9.283041356677721"
            ]
          },
          "execution_count": 60,
          "metadata": {},
          "output_type": "execute_result"
        }
      ],
      "source": [
        "diff['ExtraTreesRegressor']"
      ]
    },
    {
      "cell_type": "markdown",
      "metadata": {
        "id": "SCWdVaCoqULE"
      },
      "source": [
        "Thus, the model is overfitting heavily."
      ]
    },
    {
      "cell_type": "markdown",
      "metadata": {
        "id": "2miTIZNTpqBf"
      },
      "source": [
        "### ii) Lowest Test Error"
      ]
    },
    {
      "cell_type": "code",
      "execution_count": null,
      "metadata": {
        "colab": {
          "base_uri": "https://localhost:8080/",
          "height": 35
        },
        "id": "0xQCMCbioDKz",
        "outputId": "b6284fac-ad3c-4db0-b9e4-2e0fad9f8df8"
      },
      "outputs": [
        {
          "data": {
            "application/vnd.google.colaboratory.intrinsic+json": {
              "type": "string"
            },
            "text/plain": [
              "'AdaBoostRegressor'"
            ]
          },
          "execution_count": 61,
          "metadata": {},
          "output_type": "execute_result"
        }
      ],
      "source": [
        "min(models, key=models.get)"
      ]
    },
    {
      "cell_type": "markdown",
      "metadata": {
        "id": "C81-hEomquDg"
      },
      "source": [
        "This shows that the test error is lowest for Bagging Regressor. However, let us see the difference between the training and test error"
      ]
    },
    {
      "cell_type": "code",
      "execution_count": null,
      "metadata": {
        "colab": {
          "base_uri": "https://localhost:8080/"
        },
        "id": "nREQs5Y9qpXx",
        "outputId": "33bc37cd-5681-4602-f2a1-4dd20cd3ae59"
      },
      "outputs": [
        {
          "data": {
            "text/plain": [
              "9.608264462809917"
            ]
          },
          "execution_count": 62,
          "metadata": {},
          "output_type": "execute_result"
        }
      ],
      "source": [
        "models['BaggingRegressor']"
      ]
    },
    {
      "cell_type": "code",
      "execution_count": null,
      "metadata": {
        "colab": {
          "base_uri": "https://localhost:8080/"
        },
        "id": "MztPHUaEqkQG",
        "outputId": "a0396d5d-4a6a-45c6-9590-cee521bbf75a"
      },
      "outputs": [
        {
          "data": {
            "text/plain": [
              "3.530977130977131"
            ]
          },
          "execution_count": 63,
          "metadata": {},
          "output_type": "execute_result"
        }
      ],
      "source": [
        "m['BaggingRegressor']"
      ]
    },
    {
      "cell_type": "code",
      "execution_count": null,
      "metadata": {
        "colab": {
          "base_uri": "https://localhost:8080/"
        },
        "id": "U7dP4nIepQty",
        "outputId": "a3a0d9c5-657a-421b-998b-d1b4e9035634"
      },
      "outputs": [
        {
          "data": {
            "text/plain": [
              "6.077287331832785"
            ]
          },
          "execution_count": 64,
          "metadata": {},
          "output_type": "execute_result"
        }
      ],
      "source": [
        "diff['BaggingRegressor']"
      ]
    },
    {
      "cell_type": "markdown",
      "metadata": {
        "id": "-mhaSu8WpT4p"
      },
      "source": [
        "As we can see, the difference is quite high. Hence, this is not the best suitable model. A trainning error is low but test is almost twice of trainning error in Bagging Regressor. \n",
        "Thus, this model is overfitting."
      ]
    },
    {
      "cell_type": "markdown",
      "metadata": {
        "id": "lFfytIk7COtp"
      },
      "source": [
        "### iii) Final Model\n",
        "Hence, we will use **stacking regresor** to make predictions. \n",
        "\n",
        "1. We can also use the voting regressor as well. However, since \n",
        "stacking has a lower MAE in train data set and the error on test dataset is marginally high than voting regressor, we will go for that.\n",
        "\n",
        "2. Kindly note that either of the two models i.e. Voting and Stacking Regressor could be the ideal model."
      ]
    },
    {
      "cell_type": "code",
      "execution_count": null,
      "metadata": {
        "colab": {
          "base_uri": "https://localhost:8080/",
          "height": 164
        },
        "id": "J3h18pbdtIud",
        "outputId": "32978d6e-b2fb-4f27-ad73-6eafcc060d9e"
      },
      "outputs": [
        {
          "data": {
            "text/html": [
              "<style>#sk-container-id-1 {color: black;background-color: white;}#sk-container-id-1 pre{padding: 0;}#sk-container-id-1 div.sk-toggleable {background-color: white;}#sk-container-id-1 label.sk-toggleable__label {cursor: pointer;display: block;width: 100%;margin-bottom: 0;padding: 0.3em;box-sizing: border-box;text-align: center;}#sk-container-id-1 label.sk-toggleable__label-arrow:before {content: \"▸\";float: left;margin-right: 0.25em;color: #696969;}#sk-container-id-1 label.sk-toggleable__label-arrow:hover:before {color: black;}#sk-container-id-1 div.sk-estimator:hover label.sk-toggleable__label-arrow:before {color: black;}#sk-container-id-1 div.sk-toggleable__content {max-height: 0;max-width: 0;overflow: hidden;text-align: left;background-color: #f0f8ff;}#sk-container-id-1 div.sk-toggleable__content pre {margin: 0.2em;color: black;border-radius: 0.25em;background-color: #f0f8ff;}#sk-container-id-1 input.sk-toggleable__control:checked~div.sk-toggleable__content {max-height: 200px;max-width: 100%;overflow: auto;}#sk-container-id-1 input.sk-toggleable__control:checked~label.sk-toggleable__label-arrow:before {content: \"▾\";}#sk-container-id-1 div.sk-estimator input.sk-toggleable__control:checked~label.sk-toggleable__label {background-color: #d4ebff;}#sk-container-id-1 div.sk-label input.sk-toggleable__control:checked~label.sk-toggleable__label {background-color: #d4ebff;}#sk-container-id-1 input.sk-hidden--visually {border: 0;clip: rect(1px 1px 1px 1px);clip: rect(1px, 1px, 1px, 1px);height: 1px;margin: -1px;overflow: hidden;padding: 0;position: absolute;width: 1px;}#sk-container-id-1 div.sk-estimator {font-family: monospace;background-color: #f0f8ff;border: 1px dotted black;border-radius: 0.25em;box-sizing: border-box;margin-bottom: 0.5em;}#sk-container-id-1 div.sk-estimator:hover {background-color: #d4ebff;}#sk-container-id-1 div.sk-parallel-item::after {content: \"\";width: 100%;border-bottom: 1px solid gray;flex-grow: 1;}#sk-container-id-1 div.sk-label:hover label.sk-toggleable__label {background-color: #d4ebff;}#sk-container-id-1 div.sk-serial::before {content: \"\";position: absolute;border-left: 1px solid gray;box-sizing: border-box;top: 0;bottom: 0;left: 50%;z-index: 0;}#sk-container-id-1 div.sk-serial {display: flex;flex-direction: column;align-items: center;background-color: white;padding-right: 0.2em;padding-left: 0.2em;position: relative;}#sk-container-id-1 div.sk-item {position: relative;z-index: 1;}#sk-container-id-1 div.sk-parallel {display: flex;align-items: stretch;justify-content: center;background-color: white;position: relative;}#sk-container-id-1 div.sk-item::before, #sk-container-id-1 div.sk-parallel-item::before {content: \"\";position: absolute;border-left: 1px solid gray;box-sizing: border-box;top: 0;bottom: 0;left: 50%;z-index: -1;}#sk-container-id-1 div.sk-parallel-item {display: flex;flex-direction: column;z-index: 1;position: relative;background-color: white;}#sk-container-id-1 div.sk-parallel-item:first-child::after {align-self: flex-end;width: 50%;}#sk-container-id-1 div.sk-parallel-item:last-child::after {align-self: flex-start;width: 50%;}#sk-container-id-1 div.sk-parallel-item:only-child::after {width: 0;}#sk-container-id-1 div.sk-dashed-wrapped {border: 1px dashed gray;margin: 0 0.4em 0.5em 0.4em;box-sizing: border-box;padding-bottom: 0.4em;background-color: white;}#sk-container-id-1 div.sk-label label {font-family: monospace;font-weight: bold;display: inline-block;line-height: 1.2em;}#sk-container-id-1 div.sk-label-container {text-align: center;}#sk-container-id-1 div.sk-container {/* jupyter's `normalize.less` sets `[hidden] { display: none; }` but bootstrap.min.css set `[hidden] { display: none !important; }` so we also need the `!important` here to be able to override the default hidden behavior on the sphinx rendered scikit-learn.org. See: https://github.com/scikit-learn/scikit-learn/issues/21755 */display: inline-block !important;position: relative;}#sk-container-id-1 div.sk-text-repr-fallback {display: none;}</style><div id=\"sk-container-id-1\" class=\"sk-top-container\"><div class=\"sk-text-repr-fallback\"><pre>StackingRegressor(estimators=[(&#x27;gb&#x27;,\n",
              "                               GradientBoostingRegressor(learning_rate=0.04,\n",
              "                                                         loss=&#x27;absolute_error&#x27;,\n",
              "                                                         n_estimators=400,\n",
              "                                                         random_state=1)),\n",
              "                              (&#x27;ab&#x27;,\n",
              "                               AdaBoostRegressor(learning_rate=0.04,\n",
              "                                                 n_estimators=400,\n",
              "                                                 random_state=1)),\n",
              "                              (&#x27;rfr&#x27;,\n",
              "                               RandomForestRegressor(criterion=&#x27;absolute_error&#x27;,\n",
              "                                                     random_state=1))],\n",
              "                  final_estimator=BayesianRidge())</pre><b>In a Jupyter environment, please rerun this cell to show the HTML representation or trust the notebook. <br />On GitHub, the HTML representation is unable to render, please try loading this page with nbviewer.org.</b></div><div class=\"sk-container\" hidden><div class=\"sk-item sk-dashed-wrapped\"><div class=\"sk-label-container\"><div class=\"sk-label sk-toggleable\"><input class=\"sk-toggleable__control sk-hidden--visually\" id=\"sk-estimator-id-1\" type=\"checkbox\" ><label for=\"sk-estimator-id-1\" class=\"sk-toggleable__label sk-toggleable__label-arrow\">StackingRegressor</label><div class=\"sk-toggleable__content\"><pre>StackingRegressor(estimators=[(&#x27;gb&#x27;,\n",
              "                               GradientBoostingRegressor(learning_rate=0.04,\n",
              "                                                         loss=&#x27;absolute_error&#x27;,\n",
              "                                                         n_estimators=400,\n",
              "                                                         random_state=1)),\n",
              "                              (&#x27;ab&#x27;,\n",
              "                               AdaBoostRegressor(learning_rate=0.04,\n",
              "                                                 n_estimators=400,\n",
              "                                                 random_state=1)),\n",
              "                              (&#x27;rfr&#x27;,\n",
              "                               RandomForestRegressor(criterion=&#x27;absolute_error&#x27;,\n",
              "                                                     random_state=1))],\n",
              "                  final_estimator=BayesianRidge())</pre></div></div></div><div class=\"sk-serial\"><div class=\"sk-item\"><div class=\"sk-parallel\"><div class=\"sk-parallel-item\"><div class=\"sk-item\"><div class=\"sk-label-container\"><div class=\"sk-label sk-toggleable\"><label>gb</label></div></div><div class=\"sk-serial\"><div class=\"sk-item\"><div class=\"sk-estimator sk-toggleable\"><input class=\"sk-toggleable__control sk-hidden--visually\" id=\"sk-estimator-id-2\" type=\"checkbox\" ><label for=\"sk-estimator-id-2\" class=\"sk-toggleable__label sk-toggleable__label-arrow\">GradientBoostingRegressor</label><div class=\"sk-toggleable__content\"><pre>GradientBoostingRegressor(learning_rate=0.04, loss=&#x27;absolute_error&#x27;,\n",
              "                          n_estimators=400, random_state=1)</pre></div></div></div></div></div></div><div class=\"sk-parallel-item\"><div class=\"sk-item\"><div class=\"sk-label-container\"><div class=\"sk-label sk-toggleable\"><label>ab</label></div></div><div class=\"sk-serial\"><div class=\"sk-item\"><div class=\"sk-estimator sk-toggleable\"><input class=\"sk-toggleable__control sk-hidden--visually\" id=\"sk-estimator-id-3\" type=\"checkbox\" ><label for=\"sk-estimator-id-3\" class=\"sk-toggleable__label sk-toggleable__label-arrow\">AdaBoostRegressor</label><div class=\"sk-toggleable__content\"><pre>AdaBoostRegressor(learning_rate=0.04, n_estimators=400, random_state=1)</pre></div></div></div></div></div></div><div class=\"sk-parallel-item\"><div class=\"sk-item\"><div class=\"sk-label-container\"><div class=\"sk-label sk-toggleable\"><label>rfr</label></div></div><div class=\"sk-serial\"><div class=\"sk-item\"><div class=\"sk-estimator sk-toggleable\"><input class=\"sk-toggleable__control sk-hidden--visually\" id=\"sk-estimator-id-4\" type=\"checkbox\" ><label for=\"sk-estimator-id-4\" class=\"sk-toggleable__label sk-toggleable__label-arrow\">RandomForestRegressor</label><div class=\"sk-toggleable__content\"><pre>RandomForestRegressor(criterion=&#x27;absolute_error&#x27;, random_state=1)</pre></div></div></div></div></div></div></div></div><div class=\"sk-item\"><div class=\"sk-parallel\"><div class=\"sk-parallel-item\"><div class=\"sk-item\"><div class=\"sk-label-container\"><div class=\"sk-label sk-toggleable\"><label>final_estimator</label></div></div><div class=\"sk-serial\"><div class=\"sk-item\"><div class=\"sk-estimator sk-toggleable\"><input class=\"sk-toggleable__control sk-hidden--visually\" id=\"sk-estimator-id-5\" type=\"checkbox\" ><label for=\"sk-estimator-id-5\" class=\"sk-toggleable__label sk-toggleable__label-arrow\">BayesianRidge</label><div class=\"sk-toggleable__content\"><pre>BayesianRidge()</pre></div></div></div></div></div></div></div></div></div></div></div></div>"
            ],
            "text/plain": [
              "StackingRegressor(estimators=[('gb',\n",
              "                               GradientBoostingRegressor(learning_rate=0.04,\n",
              "                                                         loss='absolute_error',\n",
              "                                                         n_estimators=400,\n",
              "                                                         random_state=1)),\n",
              "                              ('ab',\n",
              "                               AdaBoostRegressor(learning_rate=0.04,\n",
              "                                                 n_estimators=400,\n",
              "                                                 random_state=1)),\n",
              "                              ('rfr',\n",
              "                               RandomForestRegressor(criterion='absolute_error',\n",
              "                                                     random_state=1))],\n",
              "                  final_estimator=BayesianRidge())"
            ]
          },
          "execution_count": 65,
          "metadata": {},
          "output_type": "execute_result"
        }
      ],
      "source": [
        "#Creating the final model\n",
        "from sklearn.ensemble import StackingRegressor\n",
        "from sklearn.ensemble import GradientBoostingRegressor\n",
        "from sklearn.ensemble import AdaBoostRegressor\n",
        "from sklearn.ensemble import RandomForestRegressor\n",
        "from sklearn.linear_model import BayesianRidge\n",
        "from sklearn.metrics import mean_absolute_error\n",
        "\n",
        "ab = AdaBoostRegressor(random_state = 1,loss = 'linear',n_estimators = 400, learning_rate = 0.04)\n",
        "gb = GradientBoostingRegressor(random_state = 1,n_estimators = 400, max_depth = 3,loss = 'absolute_error',learning_rate = 0.04)\n",
        "rfr = RandomForestRegressor(random_state = 1,n_estimators = 100,criterion = 'absolute_error')\n",
        "byr = BayesianRidge()\n",
        "\n",
        "sr_final = StackingRegressor([('gb',gb),('ab',ab),('rfr',rfr)],final_estimator = byr)\n",
        "sr_final.fit(X,y)"
      ]
    },
    {
      "cell_type": "markdown",
      "metadata": {
        "id": "jIJX-L_guZLf"
      },
      "source": [
        "## Trial 1: SRH vs CSK 2023"
      ]
    },
    {
      "cell_type": "code",
      "execution_count": null,
      "metadata": {
        "colab": {
          "base_uri": "https://localhost:8080/"
        },
        "id": "pAHLKuafCVS8",
        "outputId": "a7311fcd-ad6e-4b09-e773-8f5888a2012b"
      },
      "outputs": [
        {
          "data": {
            "text/plain": [
              "7.5"
            ]
          },
          "execution_count": 105,
          "metadata": {},
          "output_type": "execute_result"
        }
      ],
      "source": [
        "ip = pd.read_csv('/content/ipl_latest - Sheet1.csv')\n",
        "ip = hashing(ip)\n",
        "y_p_00 = sr_final.predict(ip)\n",
        "y_p_00_int =  [round(y) for y in y_p_00] #Prediction in Integer, since runs scored can only be whole numbers\n",
        "\n",
        "actual_ip = [45,60] #Actual Score \n",
        "error_ip = mean_absolute_error(actual_ip,y_p_00_int) #Calculating Mean Absolute Error\n",
        "error_ip"
      ]
    },
    {
      "cell_type": "markdown",
      "metadata": {
        "id": "0Jq2eWfmuih6"
      },
      "source": [
        "## Trial2: RR vs GT 2022 (Finals)"
      ]
    },
    {
      "cell_type": "code",
      "execution_count": null,
      "metadata": {
        "colab": {
          "base_uri": "https://localhost:8080/"
        },
        "id": "BZRkd-JQLHmE",
        "outputId": "c9be56f1-dfbe-4ed7-cde4-19d956c40ad2"
      },
      "outputs": [
        {
          "data": {
            "text/plain": [
              "8.5"
            ]
          },
          "execution_count": 106,
          "metadata": {},
          "output_type": "execute_result"
        }
      ],
      "source": [
        "ip2 = pd.read_csv('/content/ipl_22_final - Sheet1.csv')\n",
        "ip2 = hashing(ip)\n",
        "y_p_0 = sr_final.predict(ip2)\n",
        "y_p_0_int =  [round(y) for y in y_p_0] #Prediction in Integer, since runs scored can only be whole numbers\n",
        "\n",
        "actual_ip2 = [44,31] #Actual Score\n",
        "error_ip2 = mean_absolute_error(actual_ip2,y_p_0_int) #Calculating Mean Absolute Error\n",
        "error_ip2\n"
      ]
    },
    {
      "cell_type": "code",
      "execution_count": null,
      "metadata": {
        "id": "HI9Kpgdv3UiV"
      },
      "outputs": [],
      "source": []
    }
  ],
  "metadata": {
    "colab": {
      "provenance": []
    },
    "kernelspec": {
      "display_name": "Python 3",
      "name": "python3"
    },
    "language_info": {
      "name": "python"
    }
  },
  "nbformat": 4,
  "nbformat_minor": 0
}
